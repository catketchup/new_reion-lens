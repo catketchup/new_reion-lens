{
 "cells": [
  {
   "cell_type": "code",
   "execution_count": 68,
   "metadata": {},
   "outputs": [],
   "source": [
    "from orphics import io, maps, lensing, cosmology, stats\n",
    "from pixell import enmap, curvedsky\n",
    "import numpy as np\n",
    "import os, sys\n",
    "import healpy as hp\n",
    "import matplotlib.pylab as plt\n",
    "import symlens as s\n",
    "from symlens import utils\n",
    "import importlib\n",
    "from mpi4py import MPI\n",
    "import pandas as pd\n",
    "import tools"
   ]
  },
  {
   "cell_type": "code",
   "execution_count": 87,
   "metadata": {},
   "outputs": [
    {
     "data": {
      "text/plain": [
       "'CMB_S4'"
      ]
     },
     "execution_count": 87,
     "metadata": {},
     "output_type": "execute_result"
    }
   ],
   "source": [
    "# Simulate bias of lensing reconstruction from non-Gaussian kSZ\n",
    "\n",
    "# map source, 'Colin' or 'websky'\n",
    "map_source = 'Colin'\n",
    "# 'lt' for late-time kSZ or 'ri' for reionization kSZ\n",
    "ksz_type = 'lt'\n",
    "\n",
    "# experiment configuration, name:[nlev_t,beam_arcmin]\n",
    "# experiments={'reference':[0,0]}\n",
    "experiments={'CMB_S4':[1,3]}\n",
    "#experiments = {'Planck_SMICA':[45,5], 'CMB_S3':[7,1.4], 'CMB_S4':[1,3]}\n",
    "\n",
    "# Use maps provided by websky\n",
    "map_path = 'maps/' + map_source + '/'\n",
    "# Path of output data\n",
    "data_path = 'data/'\n",
    "\n",
    "# lmin, lmax for cmb maps\n",
    "ellmin = 100\n",
    "ellmaxs = [4000]\n",
    "# ellmaxs = [3000, 4000, 4500]\n",
    "# bin width for reconstructed kappa powerspectrum\n",
    "delta_L = 40\n",
    "\n",
    "# pixel size in arcmin\n",
    "px_arcmin = 1.\n",
    "\n",
    "data_path = 'data/test/'\n",
    "importlib.reload(tools)\n",
    "ps = pd.read_csv('data/test/'+map_source+'_'+ksz_type+'_'+'CMB_S4_%s_4000.csv' %(ellmin))\n",
    "experiment_names = [ name for name in experiments.keys()]\n",
    "experiment_names[0]"
   ]
  },
  {
   "cell_type": "code",
   "execution_count": 88,
   "metadata": {},
   "outputs": [
    {
     "data": {
      "image/png": "[encoded data removed]",
      "text/plain": [
       "<Figure size 432x288 with 1 Axes>"
      ]
     },
     "metadata": {
      "needs_background": "light"
     },
     "output_type": "display_data"
    }
   ],
   "source": [
    "plt.plot(ps['Ls'], ps['bias'])\n",
    "#plt.errorbar(ps['Ls'], ps['bias'], yerr=ps['bias_err'])\n",
    "plt.errorbar(ps['Ls'], np.zeros(np.shape(ps['Ls'])), yerr=ps['bias_err'])\n",
    "plt.title(r'%s auto, ${\\ell}_{\\mathrm{min}}=%s$, ${\\ell}_{\\mathrm{max}}=%s$' %(experiment_names[0],ellmin, ellmaxs[0]))\n",
    "plt.savefig('data/test/'+map_source+'_'+ksz_type+'_'+experiment_names[0]+'_'+'%s_%s.png' %(ellmin, ellmaxs[0]))"
   ]
  },
  {
   "cell_type": "code",
   "execution_count": null,
   "metadata": {},
   "outputs": [],
   "source": []
  }
 ],
 "metadata": {
  "kernelspec": {
   "display_name": "myenv-jupyter",
   "language": "python",
   "name": "myenv-jupyter"
  },
  "language_info": {
   "codemirror_mode": {
    "name": "ipython",
    "version": 3
   },
   "file_extension": ".py",
   "mimetype": "text/x-python",
   "name": "python",
   "nbconvert_exporter": "python",
   "pygments_lexer": "ipython3",
   "version": "3.7.4"
  }
 },
 "nbformat": 4,
 "nbformat_minor": 4
}
