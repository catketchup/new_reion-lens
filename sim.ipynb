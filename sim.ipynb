{
 "cells": [
  {
   "cell_type": "code",
   "execution_count": 71,
   "metadata": {},
   "outputs": [],
   "source": [
    "from orphics import io, maps, lensing, cosmology, stats\n",
    "from pixell import enmap, curvedsky\n",
    "import numpy as np\n",
    "import os, sys\n",
    "import healpy as hp\n",
    "import matplotlib.pylab as plt\n",
    "import symlens as s\n",
    "from symlens import utils\n",
    "import importlib\n",
    "from mpi4py import MPI\n",
    "import pandas as pd\n",
    "import tools"
   ]
  },
  {
   "cell_type": "code",
   "execution_count": 72,
   "metadata": {},
   "outputs": [
    {
     "name": "stdout",
     "output_type": "stream",
     "text": [
      "bin_width=200\n",
      "reading in CMB map\n",
      "reading in websky ri kSZ map\n",
      "reading in ksz_g map\n",
      "reading in kappa map\n"
     ]
    }
   ],
   "source": [
    "# Simulate bias of lensing reconstruction from non-Gaussian kSZ\n",
    "\n",
    "# map source, 'Colin' or 'websky'\n",
    "map_source = 'websky'\n",
    "# 'lt' for late-time kSZ or 'ri' for reionization kSZ\n",
    "ksz_type = 'ri'\n",
    "\n",
    "# experiment configuration, name:[nlev_t,beam_arcmin]\n",
    "# experiments = {'reference':[0,0]}\n",
    "experiments = {'Planck_SMICA':[45,5], 'CMB_S3':[7,1.4], 'CMB_S4':[1, 3]}\n",
    "\n",
    "# Use maps provided by websky\n",
    "map_path = 'maps/' + map_source + '/'\n",
    "# Path of output data\n",
    "data_path = 'data/'\n",
    "\n",
    "# lmin, lmax for cmb maps\n",
    "ellmin = 30\n",
    "# ellmaxs = [4000]\n",
    "ellmaxs = [3000, 4000, 4500]\n",
    "# bin width for reconstructed kappa powerspectrum\n",
    "delta_L = 200\n",
    "\n",
    "# pixel size in arcmin\n",
    "px_arcmin = 1.\n",
    "# size of cutout square\n",
    "width_deg = 30\n",
    "\n",
    "print('bin_width=%s' %(delta_L))\n",
    "# Let's define a cut-sky cylindrical geometry with 1 arcminute pixel width\n",
    "# and a maximum declination extent of +- 45 deg (see below for reason)\n",
    "# band width in deg\n",
    "decmax = 15\n",
    "# shape and wcs  of the band\n",
    "band_shape, band_wcs = enmap.band_geometry(dec_cut=np.deg2rad(decmax),\n",
    "                                           res=np.deg2rad(px_arcmin / 60.))\n",
    "\n",
    "band_modlmap = enmap.modlmap(band_shape, band_wcs)\n",
    "\n",
    "# Read in cmb_alm\n",
    "print('reading in CMB map')\n",
    "cmb_alm = hp.read_alm(map_path + 'lensed_cmb_alm.fits', hdu=1)\n",
    "# Get cmb band map\n",
    "cmb_band = curvedsky.alm2map(cmb_alm, enmap.empty(band_shape, band_wcs))\n",
    "\n",
    "\n",
    "# Read in ksz_alm and get ksz band map\n",
    "print('reading in %s %s kSZ map' %(map_source, ksz_type))\n",
    "ksz_alm = hp.read_alm(map_path + f'ksz_{ksz_type}_alm.fits')\n",
    "ksz_band = curvedsky.alm2map(ksz_alm, enmap.empty(band_shape, band_wcs))\n",
    "\n",
    "\n",
    "# Read in ksz_g_alm  and get ksz_g_band map, 'g' is for gaussian\n",
    "print('reading in ksz_g map')\n",
    "ksz_g_alm = hp.read_alm(map_path + f'ksz_{ksz_type}_g_alm_6000.fits')\n",
    "ksz_g_band = curvedsky.alm2map(ksz_g_alm, enmap.empty(band_shape, band_wcs))\n",
    "\n",
    "# Read in input kappa map for cross correlation check\n",
    "print('reading in kappa map')\n",
    "kap_alm = hp.read_alm(map_path + 'kappa_alm.fits')\n",
    "kap_band = curvedsky.alm2map(kap_alm, enmap.empty(band_shape, band_wcs))"
   ]
  },
  {
   "cell_type": "code",
   "execution_count": 73,
   "metadata": {},
   "outputs": [],
   "source": [
    "nlev_t = 1\n",
    "beam_arcmin = 3\n",
    "ellmax = 4000\n",
    "ells = np.arange(0, ellmax, 1)\n",
    "Cl_noise_TT = (nlev_t * np.pi / 180. / 60.)**2 * np.ones(ells.shape)\n",
    "# deconvolved noise power spectrum\n",
    "Cl_noise_TT = Cl_noise_TT / utils.gauss_beam(ells, beam_arcmin)**2\n",
    "# deconvolved noise band map\n",
    "noise_band = curvedsky.rand_map(band_shape, band_wcs, Cl_noise_TT)"
   ]
  },
  {
   "cell_type": "code",
   "execution_count": 74,
   "metadata": {},
   "outputs": [],
   "source": [
    "shape = cmb_band.shape"
   ]
  },
  {
   "cell_type": "code",
   "execution_count": 75,
   "metadata": {},
   "outputs": [],
   "source": [
    "# npix x npix cutouts\n",
    "npix = int(width_deg * 60 / px_arcmin)\n",
    "# total number of tiles\n",
    "ntiles = int(np.prod(shape) / npix**2)\n",
    "# self.ntiles = 1\n",
    "# number of tiles in a row\n",
    "num_x = int(360 / width_deg)"
   ]
  },
  {
   "cell_type": "code",
   "execution_count": 112,
   "metadata": {},
   "outputs": [],
   "source": [
    "ex, ey = 0, 0\n",
    "cmb_tg = (cmb_band + ksz_g_band + noise_band)[0:npix, 0:npix]\n",
    "cmb_tg = (cmb_band  + noise_band)[0:npix, 0:npix]\n",
    "cmb_t = (cmb_band + ksz_band + noise_band)[0:npix, 0:npix]"
   ]
  },
  {
   "cell_type": "code",
   "execution_count": 113,
   "metadata": {},
   "outputs": [],
   "source": [
    "map_shape = cmb_tg.shape\n",
    "map_wcs = cmb_tg.wcs\n",
    "map_modlmap = enmap.modlmap(map_shape, map_wcs)"
   ]
  },
  {
   "cell_type": "code",
   "execution_count": 114,
   "metadata": {},
   "outputs": [
    {
     "data": {
      "text/plain": [
       "array([0.0000e+00, 1.0000e+00, 2.0000e+00, ..., 1.5360e+04, 1.5361e+04,\n",
       "       1.5362e+04])"
      ]
     },
     "execution_count": 114,
     "metadata": {},
     "output_type": "execute_result"
    }
   ],
   "source": [
    "map_modlmap.max()\n",
    "ells = np.arange(0, map_modlmap.max() + 1, 1)\n",
    "ells"
   ]
  },
  {
   "cell_type": "code",
   "execution_count": 115,
   "metadata": {},
   "outputs": [],
   "source": [
    "import new_tools\n",
    "importlib.reload(new_tools)\n",
    "Lmin = 40\n",
    "Lmax = ellmax\n",
    "results= new_tools.kappa(ellmin, ellmax, Lmin, Lmax, delta_L, nlev_t, beam_arcmin, enmap1=cmb_tg, enmap2=cmb_tg)"
   ]
  },
  {
   "cell_type": "code",
   "execution_count": 116,
   "metadata": {},
   "outputs": [],
   "source": [
    "inkappa_cl = hp.alm2cl(kap_alm)\n",
    "inkappa = kap_band[0:npix, 0:npix]"
   ]
  },
  {
   "cell_type": "code",
   "execution_count": 117,
   "metadata": {},
   "outputs": [
    {
     "data": {
      "text/plain": [
       "[<matplotlib.lines.Line2D at 0x2aab0a578b50>]"
      ]
     },
     "execution_count": 117,
     "metadata": {},
     "output_type": "execute_result"
    },
    {
     "data": {
      "image/png": "[encoded data removed]",
      "text/plain": [
       "<Figure size 432x288 with 1 Axes>"
      ]
     },
     "metadata": {
      "needs_background": "light"
     },
     "output_type": "display_data"
    }
   ],
   "source": [
    "Ls = results['Ls']\n",
    "kappa = results['kappa']\n",
    "kappa_cl = results['kappa_cl']\n",
    "d_cl = results['d_cl']\n",
    "phi_cl = results['phi_cl']\n",
    "noise_cl = results['noise_cl']\n",
    "norm = results['norm']\n",
    "plt.loglog(Ls, kappa_cl-noise_cl)\n",
    "plt.loglog( inkappa_cl)\n",
    "#plt.loglog(Ls, d_cl)\n",
    "#plt.loglog(Ls, phi_cl)\n",
    "#plt.loglog(Ls, noise_cl)\n",
    "#plt.loglog(Ls, norm*Ls**2/4)"
   ]
  },
  {
   "cell_type": "code",
   "execution_count": 118,
   "metadata": {},
   "outputs": [],
   "source": [
    "taper, w2 = maps.get_taper_deg(map_shape, map_wcs)\n",
    "inkappa = taper * inkappa\n",
    "Ls, cross = new_tools.powspec(kappa, inkappa, taper, 3, map_modlmap, Lmin, Lmax, delta_L)\n",
    "Ls, inkap_cl = new_tools.powspec(inkappa, inkappa, taper, 2, map_modlmap, Lmin, Lmax, delta_L)"
   ]
  },
  {
   "cell_type": "code",
   "execution_count": 120,
   "metadata": {},
   "outputs": [
    {
     "data": {
      "text/plain": [
       "[<matplotlib.lines.Line2D at 0x2aab09251250>]"
      ]
     },
     "execution_count": 120,
     "metadata": {},
     "output_type": "execute_result"
    },
    {
     "data": {
      "image/png": "[encoded data removed]",
      "text/plain": [
       "<Figure size 432x288 with 1 Axes>"
      ]
     },
     "metadata": {
      "needs_background": "light"
     },
     "output_type": "display_data"
    }
   ],
   "source": [
    "plt.loglog(Ls, cross)\n",
    "plt.loglog(Ls, inkap_cl)\n",
    "plt.loglog(Ls, kappa_cl - noise_cl)"
   ]
  },
  {
   "cell_type": "code",
   "execution_count": 87,
   "metadata": {},
   "outputs": [
    {
     "data": {
      "text/plain": [
       "'CMB_S4'"
      ]
     },
     "execution_count": 87,
     "metadata": {},
     "output_type": "execute_result"
    }
   ],
   "source": [
    "# Simulate bias of lensing reconstruction from non-Gaussian kSZ\n",
    "\n",
    "# map source, 'Colin' or 'websky'\n",
    "map_source = 'Colin'\n",
    "# 'lt' for late-time kSZ or 'ri' for reionization kSZ\n",
    "ksz_type = 'lt'\n",
    "\n",
    "# experiment configuration, name:[nlev_t,beam_arcmin]\n",
    "# experiments={'reference':[0,0]}\n",
    "experiments={'CMB_S4':[1,3]}\n",
    "#experiments = {'Planck_SMICA':[45,5], 'CMB_S3':[7,1.4], 'CMB_S4':[1,3]}\n",
    "\n",
    "# Use maps provided by websky\n",
    "map_path = 'maps/' + map_source + '/'\n",
    "# Path of output data\n",
    "data_path = 'data/'\n",
    "\n",
    "# lmin, lmax for cmb maps\n",
    "ellmin = 100\n",
    "ellmaxs = [4000]\n",
    "# ellmaxs = [3000, 4000, 4500]\n",
    "# bin width for reconstructed kappa powerspectrum\n",
    "delta_L = 40\n",
    "\n",
    "# pixel size in arcmin\n",
    "px_arcmin = 1.\n",
    "\n",
    "data_path = 'data/test/'\n",
    "importlib.reload(tools)\n",
    "ps = pd.read_csv('data/test/'+map_source+'_'+ksz_type+'_'+'CMB_S4_%s_4000.csv' %(ellmin))\n",
    "experiment_names = [ name for name in experiments.keys()]\n",
    "experiment_names[0]"
   ]
  },
  {
   "cell_type": "code",
   "execution_count": 88,
   "metadata": {},
   "outputs": [
    {
     "data": {
      "image/png": "[encoded data removed]",
      "text/plain": [
       "<Figure size 432x288 with 1 Axes>"
      ]
     },
     "metadata": {
      "needs_background": "light"
     },
     "output_type": "display_data"
    }
   ],
   "source": [
    "plt.plot(ps['Ls'], ps['bias'])\n",
    "#plt.errorbar(ps['Ls'], ps['bias'], yerr=ps['bias_err'])\n",
    "plt.errorbar(ps['Ls'], np.zeros(np.shape(ps['Ls'])), yerr=ps['bias_err'])\n",
    "plt.title(r'%s auto, ${\\ell}_{\\mathrm{min}}=%s$, ${\\ell}_{\\mathrm{max}}=%s$' %(experiment_names[0],ellmin, ellmaxs[0]))\n",
    "plt.savefig('data/test/'+map_source+'_'+ksz_type+'_'+experiment_names[0]+'_'+'%s_%s.png' %(ellmin, ellmaxs[0]))"
   ]
  },
  {
   "cell_type": "code",
   "execution_count": null,
   "metadata": {},
   "outputs": [],
   "source": []
  }
 ],
 "metadata": {
  "kernelspec": {
   "display_name": "myenv-jupyter",
   "language": "python",
   "name": "myenv-jupyter"
  },
  "language_info": {
   "codemirror_mode": {
    "name": "ipython",
    "version": 3
   },
   "file_extension": ".py",
   "mimetype": "text/x-python",
   "name": "python",
   "nbconvert_exporter": "python",
   "pygments_lexer": "ipython3",
   "version": "3.7.4"
  }
 },
 "nbformat": 4,
 "nbformat_minor": 4
}
