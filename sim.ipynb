{
 "cells": [
  {
   "cell_type": "code",
   "execution_count": 7,
   "metadata": {},
   "outputs": [],
   "source": [
    "from orphics import io, maps, lensing, cosmology, stats\n",
    "from pixell import enmap, curvedsky\n",
    "import numpy as np\n",
    "import os, sys\n",
    "import healpy as hp\n",
    "import matplotlib.pylab as plt\n",
    "import symlens as s\n",
    "from symlens import utils\n",
    "import importlib\n",
    "from mpi4py import MPI\n",
    "import pandas as pd\n",
    "import tools"
   ]
  },
  {
   "cell_type": "code",
   "execution_count": 8,
   "metadata": {},
   "outputs": [],
   "source": [
    "# Simulate bias of lensing reconstruction from non-Gaussian kSZ\n",
    "\n",
    "# map source, 'Colin' or 'websky'\n",
    "map_source = 'Colin'\n",
    "# 'lt' for late-time kSZ or 'ri' for reionization kSZ\n",
    "ksz_type = 'lt'\n",
    "\n",
    "# experiment configuration, name:[nlev_t,beam_arcmin]\n",
    "experiments={'CMB_S4':[1,3]}\n",
    "#experiments = {'Planck_SMICA':[45,5], 'CMB_S3':[7,1.4], 'CMB_S4':[1,3]}\n",
    "\n",
    "# Use maps provided by websky\n",
    "map_path = 'maps/' + map_source + '/'\n",
    "# Path of output data\n",
    "data_path = 'data/'\n",
    "\n",
    "# lmin, lmax for cmb maps\n",
    "ellmin = 100\n",
    "ellmaxs = [4000]\n",
    "# ellmaxs = [3000, 4000, 4500]\n",
    "# bin width for reconstructed kappa powerspectrum\n",
    "delta_L = 40\n",
    "\n",
    "# pixel size in arcmin\n",
    "px_arcmin = 1.\n",
    "# size of cutout square\n",
    "width_deg = 30\n",
    "\n",
    "# Let's define a cut-sky cylindrical geometry with 1 arcminute pixel width\n",
    "# and a maximum declination extent of +- 15 deg (see below for reason)\n",
    "# band width in deg\n",
    "decmax = 60\n",
    "# shape and wcs  of the band\n",
    "band_shape, band_wcs = enmap.band_geometry(dec_cut=np.deg2rad(decmax),\n",
    "                                           res=np.deg2rad(px_arcmin / 60.))\n",
    "\n",
    "band_modlmap = enmap.modlmap(band_shape, band_wcs)\n",
    "\n",
    "# Read in cmb_alm\n",
    "cmb_alm = hp.read_alm(map_path + 'lensed_cmb_alm.fits', hdu=1)\n",
    "# Get cmb band map\n",
    "cmb_band = curvedsky.alm2map(cmb_alm, enmap.empty(band_shape, band_wcs))\n",
    "\n",
    "# Read in ksz_alm and get ksz band map\n",
    "ksz_alm = hp.read_alm(map_path + f'ksz_{ksz_type}_alm.fits')\n",
    "ksz_band = curvedsky.alm2map(ksz_alm, enmap.empty(band_shape, band_wcs))\n",
    "\n",
    "# Read in ksz_g_alm  and get ksz_g_band map, 'g' is for gaussian\n",
    "ksz_g_alm = hp.read_alm(map_path +f'ksz_{ksz_type}_g_alm_6000.fits')\n",
    "ksz_g_band = curvedsky.alm2map(ksz_g_alm, enmap.empty(band_shape, band_wcs))\n",
    "\n",
    "\n",
    "# Read in input kappa map for cross correlation check\n",
    "kap_alm = hp.read_alm(map_path + 'kappa_alm.fits')\n",
    "kap_band = curvedsky.alm2map(kap_alm, enmap.empty(band_shape, band_wcs))\n"
   ]
  },
  {
   "cell_type": "code",
   "execution_count": 9,
   "metadata": {},
   "outputs": [
    {
     "data": {
      "text/plain": [
       "<module 'tools' from '/global/cscratch1/sd/hongbo/new_reion-lens/tools.py'>"
      ]
     },
     "execution_count": 9,
     "metadata": {},
     "output_type": "execute_result"
    }
   ],
   "source": [
    "data_path = 'data/test/'\n",
    "importlib.reload(tools)"
   ]
  },
  {
   "cell_type": "code",
   "execution_count": 10,
   "metadata": {},
   "outputs": [],
   "source": [
    "# loop for different experiments and ellmax\n",
    "for experiment_name, value in experiments.items():\n",
    "    for ellmax in ellmaxs:\n",
    "\n",
    "        nlev_t = value[0]\n",
    "        beam_arcmin = value[1]\n",
    "        ells = np.arange(0, ellmax, 1)\n",
    "        # lmin, lmax for reconstructed kappa map\n",
    "        Lmin, Lmax = 40, ellmax\n",
    "        # noise power spectrum\n",
    "        Cl_noise_TT = (nlev_t * np.pi / 180. / 60.)**2 * np.ones(ells.shape)\n",
    "        # deconvolved noise power spectrum\n",
    "        Cl_noise_TT = Cl_noise_TT / utils.gauss_beam(ells, beam_arcmin)**2\n",
    "        # deconvolved noise band map\n",
    "        noise_band = curvedsky.rand_map(band_shape, band_wcs, Cl_noise_TT)\n",
    "        \n",
    "        \n",
    "        Ls, Data = tools.ksz_lens(ellmin, ellmax, nlev_t, beam_arcmin, px_arcmin, width_deg,\n",
    "                                 cmb=cmb_band, noise=noise_band, ksz=ksz_band, ksz_g=ksz_g_band,\n",
    "                                 inkap=kap_band).get_bias(Lmin, Lmax, delta_L)\n",
    "\n",
    "        # Store autospectra and their bias in a dictionary\n",
    "        Data_dict = {\n",
    "            \"Ls\": Ls,\n",
    "            \"reckap_x_reckap_t\": Data.stats['reckap_x_reckap_t']['mean'],\n",
    "            \"reckap_x_reckap_t_err\": Data.stats['reckap_x_reckap_t']['err'],\n",
    "            \"bias\": Data.stats['bias']['mean'],\n",
    "            \"bias_err\": Data.stats['bias']['err']\n",
    "        }\n",
    "         \n",
    "        Data_df = pd.DataFrame(Data_dict)\n",
    "        Data_df.to_csv(data_path + map_source + '_' + ksz_type + '_%s_%s_%s.csv' %\n",
    "                       (experiment_name, ellmin, ellmax), index=False)"
   ]
  },
  {
   "cell_type": "code",
   "execution_count": 11,
   "metadata": {},
   "outputs": [],
   "source": [
    "bias1 = pd.read_csv('data/test/Colin_lt_CMB_S4_100_4000.csv')\n",
    "#bias2 = pd.read_csv('data/test/websky_ri_CMB_S4_100_4000.csv')"
   ]
  },
  {
   "cell_type": "code",
   "execution_count": 26,
   "metadata": {},
   "outputs": [
    {
     "data": {
      "text/plain": [
       "'CMB_S4'"
      ]
     },
     "execution_count": 26,
     "metadata": {},
     "output_type": "execute_result"
    }
   ],
   "source": [
    "experiment_names = [ name for name in experiments.keys()]\n",
    "experiment_names[0]"
   ]
  },
  {
   "cell_type": "code",
   "execution_count": 43,
   "metadata": {},
   "outputs": [
    {
     "data": {
      "image/png": "[encoded data removed]",
      "text/plain": [
       "<Figure size 432x288 with 1 Axes>"
      ]
     },
     "metadata": {
      "needs_background": "light"
     },
     "output_type": "display_data"
    }
   ],
   "source": [
    "plt.plot(bias1['Ls'], bias1['bias'])\n",
    "plt.errorbar(bias1['Ls'], np.zeros(np.shape(bias1['Ls'])), yerr=bias1['bias_err'])\n",
    "plt.title(r'CMB S4 auto, ${\\ell}_{\\mathrm{max}}=%s$' %ellmax)\n",
    "plt.savefig('data/test/'+map_source+'_'+ksz_type+'_'+experiment_names[0]+'_'+'.png')"
   ]
  }
 ],
 "metadata": {
  "kernelspec": {
   "display_name": "myenv-jupyter",
   "language": "python",
   "name": "myenv-jupyter"
  },
  "language_info": {
   "codemirror_mode": {
    "name": "ipython",
    "version": 3
   },
   "file_extension": ".py",
   "mimetype": "text/x-python",
   "name": "python",
   "nbconvert_exporter": "python",
   "pygments_lexer": "ipython3",
   "version": "3.7.4"
  }
 },
 "nbformat": 4,
 "nbformat_minor": 4
}
