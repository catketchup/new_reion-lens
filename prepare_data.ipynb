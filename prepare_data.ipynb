{
 "cells": [
  {
   "cell_type": "code",
   "execution_count": 1,
   "metadata": {},
   "outputs": [],
   "source": [
    "import numpy as np\n",
    "import healpy as hp\n",
    "import pandas as pd\n",
    "import matplotlib.pyplot as plt\n",
    "import tools\n",
    "import importlib"
   ]
  },
  {
   "cell_type": "code",
   "execution_count": 21,
   "metadata": {},
   "outputs": [],
   "source": [
    "lmax = 7000\n",
    "\n",
    "if 0:\n",
    "    output_path = './maps/colin/'\n",
    "\n",
    "    lensed_cmb = output_path + 'original/Sehgalsimparams_healpix_4096_KappaeffLSStoCMBfullsky_phi_SimLens_Tsynfastnopell_fast_lmax8000_nside4096_interp2.5_method1_1_lensed_map.fits'\n",
    "    lensed_cmb_output_name = 'lensed_cmb'\n",
    "    \n",
    "    # late-time ksz\n",
    "    ksz_lt = output_path + 'original/148_ksz_healpix_nopell_Nside4096_DeltaT_uK.fits'\n",
    "    ksz_lt_output_name = 'ksz_lt'\n",
    "\n",
    "    phi = output_path + 'original/healpix_4096_KappaeffLSStoCMBfullsky_phi.fits'\n",
    "    phi_output_name = 'phi'\n",
    "    \n",
    "    #kappa = output_path + 'original/healpix_4096_KappaeffLSStoCMBfullsky.fits'\n",
    "    kappa_output_name = 'kappa'\n",
    "else:\n",
    "    output_path = './maps/websky/'\n",
    "    \n",
    "    lensed_cmb_alm = './maps/websky/original/lensed_alm.fits'\n",
    "    lensed_cmb_output_name = 'lensed_cmb'\n",
    "    \n",
    "    # late-time ksz\n",
    "    ksz_lt = './maps/websky/original/ksz.fits'\n",
    "    ksz_lt_output_name = 'ksz_lt'\n",
    "    \n",
    "    # reionization ksz\n",
    "    ksz_ri = './maps/websky/original/ksz_patchy.fits'\n",
    "    ksz_ri_output_name = 'ksz_ri'\n",
    "    \n",
    "    kappa = './maps/websky/original/kap.fits'\n",
    "    kappa_output_name = 'kappa'"
   ]
  },
  {
   "cell_type": "code",
   "execution_count": 19,
   "metadata": {},
   "outputs": [
    {
     "data": {
      "text/plain": [
       "<module 'tools' from '/global/cscratch1/sd/hongbo/new_reion-lens/tools.py'>"
      ]
     },
     "execution_count": 19,
     "metadata": {},
     "output_type": "execute_result"
    }
   ],
   "source": [
    "importlib.reload(tools)"
   ]
  },
  {
   "cell_type": "code",
   "execution_count": 22,
   "metadata": {},
   "outputs": [],
   "source": [
    "lensed_cmb_alm = hp.read_alm(lensed_cmb_alm)\n",
    "lensed_cmb_cl = hp.alm2cl(lensed_cmb_alm)"
   ]
  },
  {
   "cell_type": "code",
   "execution_count": 26,
   "metadata": {},
   "outputs": [],
   "source": [
    "ell = np.arange(0, np.size(lensed_cmb_cl), 1)\n",
    "lensed_cmb_dict = {'ell':ell, 'Cl':lensed_cmb_cl}\n",
    "lensed_cmb_df = pd.DataFrame(lensed_cmb_dict)\n",
    "lensed_cmb_df.to_csv(output_path+'lensed_cmb_cl.csv', index=False)"
   ]
  },
  {
   "cell_type": "code",
   "execution_count": 20,
   "metadata": {},
   "outputs": [
    {
     "name": "stderr",
     "output_type": "stream",
     "text": [
      "/global/homes/h/hongbo/.local/cori/3.7-anaconda-2019.07/lib/python3.7/site-packages/healpy/fitsfunc.py:352: UserWarning: If you are not specifying the input dtype and using the default np.float64 dtype of read_map(), please consider that it will change in a future version to None as to keep the same dtype of the input file: please explicitly set the dtype if it is important to you.\n",
      "  \"If you are not specifying the input dtype and using the default \"\n"
     ]
    },
    {
     "name": "stdout",
     "output_type": "stream",
     "text": [
      "NSIDE = 4096\n",
      "ORDERING = RING in fits file\n",
      "INDXSCHM = IMPLICIT\n",
      "NSIDE = 4096\n",
      "ORDERING = NESTED in fits file\n",
      "INDXSCHM = IMPLICIT\n"
     ]
    },
    {
     "name": "stderr",
     "output_type": "stream",
     "text": [
      "/global/homes/h/hongbo/.local/cori/3.7-anaconda-2019.07/lib/python3.7/site-packages/healpy/fitsfunc.py:403: UserWarning: No INDXSCHM keyword in header file : assume IMPLICIT\n",
      "  warnings.warn(\"No INDXSCHM keyword in header file : \" \"assume {}\".format(schm))\n"
     ]
    },
    {
     "name": "stdout",
     "output_type": "stream",
     "text": [
      "Ordering converted to RING\n",
      "NSIDE = 4096\n",
      "ORDERING = RING in fits file\n",
      "INDXSCHM = IMPLICIT\n"
     ]
    }
   ],
   "source": [
    "# tools.convert(lensed_cmb, output_path, lensed_cmb_output_name)\n",
    "tools.convert(ksz_lt, output_path, ksz_lt_output_name)\n",
    "tools.convert(ksz_ri, output_path, ksz_ri_output_name)\n",
    "tools.convert(kappa, output_path, kappa_output_name)"
   ]
  },
  {
   "cell_type": "code",
   "execution_count": 3,
   "metadata": {},
   "outputs": [
    {
     "name": "stderr",
     "output_type": "stream",
     "text": [
      "/global/homes/h/hongbo/.local/cori/3.7-anaconda-2019.07/lib/python3.7/site-packages/healpy/fitsfunc.py:352: UserWarning: If you are not specifying the input dtype and using the default np.float64 dtype of read_map(), please consider that it will change in a future version to None as to keep the same dtype of the input file: please explicitly set the dtype if it is important to you.\n",
      "  \"If you are not specifying the input dtype and using the default \"\n"
     ]
    },
    {
     "name": "stdout",
     "output_type": "stream",
     "text": [
      "NSIDE = 4096\n",
      "ORDERING = RING in fits file\n",
      "INDXSCHM = IMPLICIT\n"
     ]
    }
   ],
   "source": [
    "tools.convert(phi, output_path, phi_output_name)"
   ]
  },
  {
   "cell_type": "code",
   "execution_count": 4,
   "metadata": {},
   "outputs": [],
   "source": [
    "# Get kappa map from phi map\n",
    "phi_alm = hp.read_alm(output_path + 'phi_alm.fits')\n",
    "phi_cl = pd.read_csv(output_path + 'phi_cl.csv')"
   ]
  },
  {
   "cell_type": "code",
   "execution_count": 8,
   "metadata": {},
   "outputs": [],
   "source": [
    "ell = np.arange(0, np.size(phi_cl['ell']), 1)\n",
    "kappa_alm = hp.almxfl(phi_alm, ell**2/2)\n",
    "hp.write_alm(output_path+'kappa_alm.fits', kappa_alm, overwrite=True)"
   ]
  },
  {
   "cell_type": "code",
   "execution_count": 9,
   "metadata": {},
   "outputs": [],
   "source": [
    "kappa_cl = hp.alm2cl(kappa_alm)\n",
    "kappa_cl_dict = {'ell':ell, 'Cl':kappa_cl}\n",
    "kappa_df = pd.DataFrame(kappa_cl_dict)\n",
    "kappa_df.to_csv(output_path+'kappa_cl.csv')"
   ]
  },
  {
   "cell_type": "code",
   "execution_count": 10,
   "metadata": {},
   "outputs": [],
   "source": [
    "lsd = pd.read_csv(output_path+'lensed_cmb_cl.csv')"
   ]
  },
  {
   "cell_type": "code",
   "execution_count": 11,
   "metadata": {},
   "outputs": [
    {
     "data": {
      "text/plain": [
       "[<matplotlib.lines.Line2D at 0x2aaad6e55f50>]"
      ]
     },
     "execution_count": 11,
     "metadata": {},
     "output_type": "execute_result"
    },
    {
     "data": {
      "image/png": "[encoded data removed]",
      "text/plain": [
       "<Figure size 432x288 with 1 Axes>"
      ]
     },
     "metadata": {
      "needs_background": "light"
     },
     "output_type": "display_data"
    }
   ],
   "source": [
    "l = lsd['ell']\n",
    "Cl = lsd['Cl']\n",
    "plt.loglog(l, Cl)"
   ]
  },
  {
   "cell_type": "code",
   "execution_count": 16,
   "metadata": {},
   "outputs": [],
   "source": [
    "kappa = pd.read_csv(output_path + 'kappa_cl.csv')\n",
    "ell = phi['ell']\n",
    "kappa_cl = kappa['Cl']"
   ]
  },
  {
   "cell_type": "code",
   "execution_count": 17,
   "metadata": {},
   "outputs": [
    {
     "data": {
      "text/plain": [
       "[<matplotlib.lines.Line2D at 0x2aaae81b9e90>]"
      ]
     },
     "execution_count": 17,
     "metadata": {},
     "output_type": "execute_result"
    },
    {
     "data": {
      "image/png": "[encoded data removed]",
      "text/plain": [
       "<Figure size 432x288 with 1 Axes>"
      ]
     },
     "metadata": {
      "needs_background": "light"
     },
     "output_type": "display_data"
    }
   ],
   "source": [
    "plt.loglog(ell, kappa_cl)"
   ]
  },
  {
   "cell_type": "code",
   "execution_count": null,
   "metadata": {},
   "outputs": [],
   "source": []
  }
 ],
 "metadata": {
  "kernelspec": {
   "display_name": "myenv-jupyter",
   "language": "python",
   "name": "myenv-jupyter"
  },
  "language_info": {
   "codemirror_mode": {
    "name": "ipython",
    "version": 3
   },
   "file_extension": ".py",
   "mimetype": "text/x-python",
   "name": "python",
   "nbconvert_exporter": "python",
   "pygments_lexer": "ipython3",
   "version": "3.7.4"
  }
 },
 "nbformat": 4,
 "nbformat_minor": 4
}
