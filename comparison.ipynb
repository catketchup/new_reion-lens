{
 "cells": [
  {
   "cell_type": "code",
   "execution_count": 1,
   "metadata": {},
   "outputs": [],
   "source": [
    "from pixell import enmap, curvedsky\n",
    "import numpy as np\n",
    "import healpy as hp\n",
    "import matplotlib.pylab as plt\n",
    "import importlib\n",
    "import pandas as pd\n",
    "import tools\n",
    "import math\n",
    "from IPython.core.interactiveshell import InteractiveShell\n",
    "InteractiveShell.ast_node_interactivity = \"all\""
   ]
  },
  {
   "cell_type": "code",
   "execution_count": 2,
   "metadata": {},
   "outputs": [],
   "source": [
    "lensed_cmb = pd.read_csv('maps/Colin/lensed_cmb_cl.csv')\n",
    "websky_ksz_lt = pd.read_csv('maps/websky/ksz_lt_cl.csv')\n",
    "websky_ksz_ri = pd.read_csv('maps/websky/ksz_ri_cl.csv')\n",
    "colin_ksz_lt = pd.read_csv('maps/Colin/ksz_lt_cl.csv')"
   ]
  },
  {
   "cell_type": "code",
   "execution_count": null,
   "metadata": {},
   "outputs": [],
   "source": [
    "# noise map ps\n"
   ]
  },
  {
   "cell_type": "code",
   "execution_count": 4,
   "metadata": {},
   "outputs": [],
   "source": [
    "Range = np.arange(1000, 8000, 1)\n",
    "R = (Range*(Range+1))/(2*math.pi)"
   ]
  },
  {
   "cell_type": "code",
   "execution_count": 5,
   "metadata": {},
   "outputs": [
    {
     "data": {
      "text/plain": [
       "[<matplotlib.lines.Line2D at 0x2aaae75ca5d0>]"
      ]
     },
     "execution_count": 5,
     "metadata": {},
     "output_type": "execute_result"
    },
    {
     "data": {
      "text/plain": [
       "[<matplotlib.lines.Line2D at 0x2aaae75cafd0>]"
      ]
     },
     "execution_count": 5,
     "metadata": {},
     "output_type": "execute_result"
    },
    {
     "data": {
      "text/plain": [
       "[<matplotlib.lines.Line2D at 0x2aaae75ee650>]"
      ]
     },
     "execution_count": 5,
     "metadata": {},
     "output_type": "execute_result"
    },
    {
     "data": {
      "text/plain": [
       "[<matplotlib.lines.Line2D at 0x2aaae75eee10>]"
      ]
     },
     "execution_count": 5,
     "metadata": {},
     "output_type": "execute_result"
    },
    {
     "data": {
      "text/plain": [
       "<matplotlib.legend.Legend at 0x2aaae75c17d0>"
      ]
     },
     "execution_count": 5,
     "metadata": {},
     "output_type": "execute_result"
    },
    {
     "data": {
      "text/plain": [
       "Text(0.5, 0, '$l$')"
      ]
     },
     "execution_count": 5,
     "metadata": {},
     "output_type": "execute_result"
    },
    {
     "data": {
      "text/plain": [
       "Text(0, 0.5, '$Cl$')"
      ]
     },
     "execution_count": 5,
     "metadata": {},
     "output_type": "execute_result"
    },
    {
     "data": {
      "image/png": "[encoded data removed]",
      "text/plain": [
       "<Figure size 432x288 with 1 Axes>"
      ]
     },
     "metadata": {
      "needs_background": "light"
     },
     "output_type": "display_data"
    }
   ],
   "source": [
    "plt.plot(lensed_cmb['ell'][Range], R*lensed_cmb['Cl'][Range])\n",
    "plt.plot(websky_ksz_lt['ell'][Range], R*websky_ksz_lt['Cl'][Range])\n",
    "plt.plot(websky_ksz_ri['ell'][Range], R*websky_ksz_ri['Cl'][Range])\n",
    "plt.plot(colin_ksz_lt['ell'][Range], R*colin_ksz_lt['Cl'][Range])\n",
    "plt.legend(['lensed CMB', 'websky late-time kSZ', 'websky reionization kSZ', 'Colin late-time kSZ'])\n",
    "#plt.xscale('log')\n",
    "plt.yscale('log')\n",
    "plt.xlabel('$l$')\n",
    "plt.ylabel('$Cl$')"
   ]
  },
  {
   "cell_type": "code",
   "execution_count": 6,
   "metadata": {},
   "outputs": [
    {
     "data": {
      "text/plain": [
       "array([1000, 1001, 1002, ..., 7997, 7998, 7999])"
      ]
     },
     "execution_count": 6,
     "metadata": {},
     "output_type": "execute_result"
    }
   ],
   "source": [
    "lensed_cmb['ell'].values[Range]"
   ]
  },
  {
   "cell_type": "code",
   "execution_count": 7,
   "metadata": {},
   "outputs": [],
   "source": [
    "smooth_ellmin, smooth_ellmax = 1000, 7000\n",
    "smooth_width = 1\n",
    "\n",
    "\n",
    "bin_width = 20\n",
    "ellmin, ellmax = int(smooth_ellmin - bin_width/2), int(smooth_ellmax + bin_width/2)\n",
    "ells = np.arange(ellmin, ellmax+1, 1)\n",
    "\n",
    "smooth_ells,s_lensed_cmb = tools.bin_smooth(ells, lensed_cmb['Cl'].values[ells], bin_width).smooth(smooth_ellmin, smooth_ellmax, smooth_width)\n",
    "smooth_ells,s_websky_ksz_lt = tools.bin_smooth(ells, websky_ksz_lt['Cl'].values[ells], bin_width).smooth(smooth_ellmin, smooth_ellmax, smooth_width)\n",
    "smooth_ells,s_websky_ksz_ri = tools.bin_smooth(ells, websky_ksz_ri['Cl'].values[ells], bin_width).smooth(smooth_ellmin, smooth_ellmax, smooth_width)\n",
    "smooth_ells,s_colin_ksz_lt = tools.bin_smooth(ells, colin_ksz_lt['Cl'].values[ells], bin_width).smooth(smooth_ellmin, smooth_ellmax, smooth_width)"
   ]
  },
  {
   "cell_type": "code",
   "execution_count": 8,
   "metadata": {},
   "outputs": [
    {
     "data": {
      "text/plain": [
       "array([ 159314.09803499,  159632.72623106,  159951.67273701, ...,\n",
       "       7793022.74342431, 7795250.27600783, 7797478.12690123])"
      ]
     },
     "execution_count": 8,
     "metadata": {},
     "output_type": "execute_result"
    }
   ],
   "source": [
    "(smooth_ells*(smooth_ells+1))/(2*math.pi)"
   ]
  },
  {
   "cell_type": "code",
   "execution_count": 9,
   "metadata": {},
   "outputs": [
    {
     "data": {
      "text/plain": [
       "[<matplotlib.lines.Line2D at 0x2aaae785ec90>]"
      ]
     },
     "execution_count": 9,
     "metadata": {},
     "output_type": "execute_result"
    },
    {
     "data": {
      "text/plain": [
       "[<matplotlib.lines.Line2D at 0x2aaae7865b10>]"
      ]
     },
     "execution_count": 9,
     "metadata": {},
     "output_type": "execute_result"
    },
    {
     "data": {
      "text/plain": [
       "[<matplotlib.lines.Line2D at 0x2aaae78602d0>]"
      ]
     },
     "execution_count": 9,
     "metadata": {},
     "output_type": "execute_result"
    },
    {
     "data": {
      "text/plain": [
       "[<matplotlib.lines.Line2D at 0x2aaae7860850>]"
      ]
     },
     "execution_count": 9,
     "metadata": {},
     "output_type": "execute_result"
    },
    {
     "data": {
      "text/plain": [
       "<matplotlib.legend.Legend at 0x2aaae7860d50>"
      ]
     },
     "execution_count": 9,
     "metadata": {},
     "output_type": "execute_result"
    },
    {
     "data": {
      "text/plain": [
       "Text(0.5, 0, '$l$')"
      ]
     },
     "execution_count": 9,
     "metadata": {},
     "output_type": "execute_result"
    },
    {
     "data": {
      "text/plain": [
       "Text(0, 0.5, '$(\\\\ell(\\\\ell+1))/(2\\\\pi)C_{\\\\ell}^{TT}$')"
      ]
     },
     "execution_count": 9,
     "metadata": {},
     "output_type": "execute_result"
    },
    {
     "data": {
      "image/png": "[encoded data removed]",
      "text/plain": [
       "<Figure size 432x288 with 1 Axes>"
      ]
     },
     "metadata": {
      "needs_background": "light"
     },
     "output_type": "display_data"
    }
   ],
   "source": [
    "plt.plot(smooth_ells, (smooth_ells*(smooth_ells+1))/(2*math.pi)*s_lensed_cmb)\n",
    "plt.plot(smooth_ells, (smooth_ells*(smooth_ells+1))/(2*math.pi)*s_websky_ksz_lt)\n",
    "plt.plot(smooth_ells, (smooth_ells*(smooth_ells+1))/(2*math.pi)*s_websky_ksz_ri)\n",
    "plt.plot(smooth_ells, (smooth_ells*(smooth_ells+1))/(2*math.pi)*s_colin_ksz_lt)\n",
    "plt.legend(['lensed CMB', 'websky late-time kSZ', 'websky reionization kSZ', 'Colin late-time kSZ'])\n",
    "plt.xlabel('$l$')\n",
    "plt.ylabel('$(\\ell(\\ell+1))/(2\\pi)C_{\\ell}^{TT}$')\n",
    "plt.yscale('log')\n",
    "plt.savefig('plots/ps.png')"
   ]
  },
  {
   "cell_type": "code",
   "execution_count": 36,
   "metadata": {},
   "outputs": [
    {
     "data": {
      "text/plain": [
       "array([1.86594878e-05, 4.77972869e-03, 4.81523646e+02, ...,\n",
       "       1.14833390e-11, 9.54900732e-12, 1.17494152e-11])"
      ]
     },
     "execution_count": 36,
     "metadata": {},
     "output_type": "execute_result"
    }
   ],
   "source": [
    "cl"
   ]
  },
  {
   "cell_type": "code",
   "execution_count": null,
   "metadata": {},
   "outputs": [],
   "source": []
  }
 ],
 "metadata": {
  "kernelspec": {
   "display_name": "myenv-jupyter",
   "language": "python",
   "name": "myenv-jupyter"
  },
  "language_info": {
   "codemirror_mode": {
    "name": "ipython",
    "version": 3
   },
   "file_extension": ".py",
   "mimetype": "text/x-python",
   "name": "python",
   "nbconvert_exporter": "python",
   "pygments_lexer": "ipython3",
   "version": "3.7.4"
  }
 },
 "nbformat": 4,
 "nbformat_minor": 4
}
