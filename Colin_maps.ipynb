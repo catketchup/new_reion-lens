{
 "cells": [
  {
   "cell_type": "code",
   "execution_count": 9,
   "metadata": {},
   "outputs": [],
   "source": [
    "import numpy as np\n",
    "import healpy as hp\n",
    "import pandas as pd\n",
    "import matplotlib.pyplot as plt\n",
    "import tools\n",
    "from IPython.core.interactiveshell import InteractiveShell\n",
    "InteractiveShell.ast_node_interactivity = \"all\""
   ]
  },
  {
   "cell_type": "code",
   "execution_count": 44,
   "metadata": {},
   "outputs": [],
   "source": [
    "bin_ellmin, bin_ellmax, bin_width = 20, 7020, 20\n",
    "bin_ells = np.arange(bin_ellmin, bin_ellmax+1, 1)\n",
    "smooth_ellmin, smooth_ellmax, smooth_width = 30, 7000, 1\n",
    "smooth_ells = np.arange(smooth_ellmin, smooth_ellmax+1, smooth_width)"
   ]
  },
  {
   "cell_type": "code",
   "execution_count": 3,
   "metadata": {},
   "outputs": [],
   "source": [
    "lensed_cmb_alms_file = './maps/websky/original/lensed_alm.fits'\n",
    "kap_file = './maps/websky/original/kap.fits'\n",
    "ksz_lt_file = './maps/websky/original/ksz.fits'\n",
    "ksz_ri_file = './maps/websky/original/ksz_patchy.fits'"
   ]
  },
  {
   "cell_type": "code",
   "execution_count": 7,
   "metadata": {},
   "outputs": [],
   "source": [
    "# write lensed_cmb_alms_7000.fits\n",
    "lensed_cmb_alms = hp.read_alm(lensed_cmb_alms_file)\n",
    "hp.write_alm('maps/websky/alms/lensed_cmb_alms_%s.fits' %(smooth_ellmax), lensed_cmb_alms, \\\n",
    "             lmax=smooth_ellmax, overwrite=True)"
   ]
  },
  {
   "cell_type": "code",
   "execution_count": 4,
   "metadata": {},
   "outputs": [
    {
     "name": "stderr",
     "output_type": "stream",
     "text": [
      "/global/homes/h/hongbo/.local/cori/3.7-anaconda-2019.07/lib/python3.7/site-packages/healpy/fitsfunc.py:352: UserWarning: If you are not specifying the input dtype and using the default np.float64 dtype of read_map(), please consider that it will change in a future version to None as to keep the same dtype of the input file: please explicitly set the dtype if it is important to you.\n",
      "  \"If you are not specifying the input dtype and using the default \"\n"
     ]
    },
    {
     "name": "stdout",
     "output_type": "stream",
     "text": [
      "NSIDE = 4096\n",
      "ORDERING = RING in fits file\n",
      "INDXSCHM = IMPLICIT\n"
     ]
    }
   ],
   "source": [
    "# write kap_alms_7000.fits\n",
    "kap_map =  hp.read_map(kap_file)\n",
    "kap_alms = hp.map2alm(kap_map, lmax=smooth_ellmax)\n",
    "hp.write_alm('maps/websky/alms/kap_alms_7000.fits', kap_alms, overwrite=True)"
   ]
  },
  {
   "cell_type": "code",
   "execution_count": 69,
   "metadata": {},
   "outputs": [
    {
     "name": "stderr",
     "output_type": "stream",
     "text": [
      "/global/homes/h/hongbo/.local/cori/3.7-anaconda-2019.07/lib/python3.7/site-packages/healpy/fitsfunc.py:352: UserWarning: If you are not specifying the input dtype and using the default np.float64 dtype of read_map(), please consider that it will change in a future version to None as to keep the same dtype of the input file: please explicitly set the dtype if it is important to you.\n",
      "  \"If you are not specifying the input dtype and using the default \"\n"
     ]
    },
    {
     "name": "stdout",
     "output_type": "stream",
     "text": [
      "NSIDE = 4096\n",
      "ORDERING = RING in fits file\n",
      "INDXSCHM = IMPLICIT\n"
     ]
    }
   ],
   "source": [
    "ksz_type = 'lt'\n",
    "if ksz_type == 'lt':\n",
    "    ksz_file = ksz_lt_file\n",
    "else:\n",
    "    ksz_file = ksz_ri_file\n",
    "ksz = hp.read_map(ksz_file)\n",
    "ksz_alms = hp.map2alm(ksz, lmax=bin_ellmax)\n",
    "hp.write_alm('./maps/websky/alms/ksz_%s_alms_%s.fits' %(ksz_type, smooth_ellmax), ksz_alms)"
   ]
  },
  {
   "cell_type": "code",
   "execution_count": 71,
   "metadata": {},
   "outputs": [],
   "source": [
    "ksz_cls = hp.alm2cl(ksz_alms)\n",
    "Smooth_ksz = tools.bin_smooth(bin_ells, ksz_cls[bin_ells], bin_width)\n",
    "smooth_ksz_cls = Smooth_ksz.get_cls(smooth_ells)"
   ]
  },
  {
   "cell_type": "code",
   "execution_count": 75,
   "metadata": {},
   "outputs": [],
   "source": [
    "# concatenate the ps and ells, ells strarts from 0\n",
    "smooth_ells_con = np.concatenate([np.arange(0, smooth_ellmin, 1), smooth_ells])\n",
    "smooth_ksz_cls_con = np.concatenate([np.zeros(smooth_ellmin), smooth_ksz_cls])"
   ]
  },
  {
   "cell_type": "code",
   "execution_count": 76,
   "metadata": {},
   "outputs": [],
   "source": [
    "# write smooth_ksz_cls_con\n",
    "df = pd.DataFrame({'ells':smooth_ells_con, 'cls':smooth_ksz_cls_con})\n",
    "df.to_csv('./maps/websky/cls/smooth_ksz_%s_cls_%s.csv' %(ksz_type, smooth_ellmax), index=False)"
   ]
  }
 ],
 "metadata": {
  "kernelspec": {
   "display_name": "myenv-jupyter",
   "language": "python",
   "name": "myenv-jupyter"
  },
  "language_info": {
   "codemirror_mode": {
    "name": "ipython",
    "version": 3
   },
   "file_extension": ".py",
   "mimetype": "text/x-python",
   "name": "python",
   "nbconvert_exporter": "python",
   "pygments_lexer": "ipython3",
   "version": "3.7.4"
  }
 },
 "nbformat": 4,
 "nbformat_minor": 4
}
