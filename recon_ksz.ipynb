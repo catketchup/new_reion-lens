{
 "cells": [
  {
   "cell_type": "code",
   "execution_count": 1,
   "metadata": {},
   "outputs": [],
   "source": [
    "import numpy as np\n",
    "import matplotlib.pyplot as plt\n",
    "import tools\n",
    "import pandas as pd\n",
    "import healpy as hp\n",
    "from pixell import enmap, curvedsky\n",
    "from orphics import io, maps, lensing, cosmology, stats\n",
    "from symlens import utils"
   ]
  },
  {
   "cell_type": "code",
   "execution_count": 2,
   "metadata": {},
   "outputs": [],
   "source": [
    "# map source\n",
    "map_source = 'websky'\n",
    "# ksz type\n",
    "ksz_type = 'ri'\n",
    "# experiment configuration\n",
    "experiment_name = 'CMB_S4'\n",
    "if experiment_name == 'CMB_S4':\n",
    "    nlev_t =1\n",
    "    beam_arcmin = 3"
   ]
  },
  {
   "cell_type": "code",
   "execution_count": 34,
   "metadata": {},
   "outputs": [],
   "source": [
    "plot_path = 'plots/'"
   ]
  },
  {
   "cell_type": "code",
   "execution_count": 4,
   "metadata": {},
   "outputs": [],
   "source": [
    "# lmin, lmax for cmb maps\n",
    "ellmin, ellmax = 100, 4000\n",
    "# lmin, lmax for reconstructed kappa map\n",
    "Lmin, Lmax = 40, 4000\n",
    "# bin width for reconstructed kappa powerspectrum\n",
    "delta_L = 40\n",
    "\n",
    "# noise level for temperature and polarization maps, here we only investiget temperature maps\n",
    "nlev_t = 0\n",
    "nlev_p = np.sqrt(2)*nlev_t\n",
    "# beam size\n",
    "beam_arcmin = 1\n",
    "# pixel size in arcmin\n",
    "px_arcmin = 1.\n",
    "# size of cutout square\n",
    "width_deg = 30\n",
    "\n",
    "# Let's define a cut-sky cylindrical geometry with 1 arcminute pixel width\n",
    "# and a maximum declination extent of +- 15 deg (see below for reason)\n",
    "# band width in deg\n",
    "decmax = 30\n",
    "# shape and wcs  of the band\n",
    "band_shape, band_wcs = enmap.band_geometry(dec_cut=np.deg2rad(decmax),\n",
    "                                 res=np.deg2rad(px_arcmin / 60.))\n",
    "\n",
    "band_modlmap = enmap.modlmap(band_shape, band_wcs)"
   ]
  },
  {
   "cell_type": "code",
   "execution_count": 12,
   "metadata": {},
   "outputs": [],
   "source": [
    "class recon_lens():\n",
    "    \"\"\" Get auto powerspectrum of two reconstructed kappa maps and compare the bias \"\"\"\n",
    "    def __init__(self, ellmin, ellmax, nlev_t, beam_arcmin, px_arcmin, width_deg, cmb1=None, theory_cl=None):\n",
    "\n",
    "        self.cmb1 = cmb1\n",
    "        self.ellmin = ellmin\n",
    "        self.ellmax = ellmax\n",
    "        self.nlev_t = nlev_t\n",
    "        self.beam_arcmin = beam_arcmin\n",
    "        self.px_arcmin = px_arcmin\n",
    "        self.width_deg = width_deg\n",
    "\n",
    "        self.shape = self.cmb1.shape\n",
    "        self.wcs = self.cmb1.wcs\n",
    "\n",
    "        # npix x npix cutouts\n",
    "        self.npix = int(width_deg * 60 / self.px_arcmin)\n",
    "        # total number of tiles\n",
    "        self.ntiles = int(np.prod(self.shape) / self.npix**2)\n",
    "        # number of tiles in a row\n",
    "        self.num_x = int(360 / self.width_deg)\n",
    "\n",
    "        # Get Cl_TT in theory for symlens, it is same for each cutout\n",
    "        self.theory = cosmology.default_theory()\n",
    "        #self.theory_cl = theory_cl\n",
    "    def auto(self, Lmin, Lmax, delta_L):\n",
    "        \"\"\"\n",
    "        Get cutout reconstructed kappa auto-power or cross-power with input cutout kappa\n",
    "        \"\"\"\n",
    "        # for statistics\n",
    "        st = stats.Stats()\n",
    "        # Initialize upper-left pixel corner\n",
    "        iy, ix = 0, 0\n",
    "\n",
    "\n",
    "\n",
    "        for itile in range(self.ntiles):\n",
    "            # Get bottom-right pixel corner\n",
    "            ey = iy + self.npix\n",
    "            ex = ix + self.npix\n",
    "\n",
    "            # Slice both cmb maps\n",
    "            cut_cmb1 = self.cmb1[iy:ey, ix:ex]\n",
    "\n",
    "            # Get geometry of the cutouts, I assume cut_cmb1 and cut_cmb2 have same geometry\n",
    "            cut_shape = cut_cmb1.shape\n",
    "            cut_wcs = cut_cmb1.wcs\n",
    "            cut_modlmap = enmap.modlmap(cut_shape, cut_wcs)\n",
    "            ells = np.arange(0, cut_modlmap.max()+1, 1)\n",
    "            ctt = self.theory.lCl('TT', ells)\n",
    "            #ctt = self.theory_cl[ells]\n",
    "\n",
    "            # Get taper for appodization\n",
    "            taper, w2 = maps.get_taper_deg(cut_shape, cut_wcs)\n",
    "\n",
    "            # Define feed_dict for symlens\n",
    "            feed_dict = {}\n",
    "            feed_dict['uC_T_T'] = utils.interp(ells,\n",
    "                                               ctt)(cut_modlmap)\n",
    "            feed_dict['tC_T_T'] = utils.interp(ells, ctt)(\n",
    "                cut_modlmap) + (self.nlev_t * np.pi / 180. /\n",
    "                                60.)**2. / utils.gauss_beam(\n",
    "                                    cut_modlmap, self.beam_arcmin)**2\n",
    "\n",
    "            # Get cmb mask\n",
    "            cmask = utils.mask_kspace(cut_shape,cut_wcs,lmin=self.ellmin,lmax=self.ellmax)\n",
    "            # Get mask for reconstruction\n",
    "            kmask = utils.mask_kspace(cut_shape,cut_wcs,lmin=Lmin,lmax=Lmax)\n",
    "            # Stride across the map, horizontally first and\n",
    "            # increment vertically when at the end of a row\n",
    "            if (itile + 1) % self.num_x != 0:\n",
    "                ix = ix + self.npix\n",
    "            else:\n",
    "                ix = 0\n",
    "                iy = iy + self.npix\n",
    "\n",
    "            # Apodize cutout CMB maps\n",
    "            cut_cmb1 = taper * cut_cmb1\n",
    "\n",
    "            # Get the Fourier maps\n",
    "            cut_cmb1_k = enmap.fft(cut_cmb1, normalize='phys')\n",
    "        \n",
    "            # Reconstruct kappa fourier maps\n",
    "            cut_reckap1, noise_2d = tools.cutout_rec(cut_shape, cut_wcs, feed_dict, cmask, kmask, cut_cmb1_k, cut_cmb1_k)\n",
    "\n",
    "            # Get auto powerspectra\n",
    "            center_L, cut_reckap1_x_reckap1 = tools.powspec(cut_reckap1, cut_reckap1, taper, 4, cut_modlmap, Lmin, Lmax, delta_L)\n",
    "        \n",
    "            # Add to stats\n",
    "            st.add_to_stats('reckap1 x reckap1', cut_reckap1_x_reckap1)\n",
    "\n",
    "        # Get spectra and bias statistics\n",
    "        st.get_stats()\n",
    "\n",
    "        return center_L, st"
   ]
  },
  {
   "cell_type": "code",
   "execution_count": 7,
   "metadata": {},
   "outputs": [],
   "source": [
    "# Read in ksz_alm and get ksz band map\n",
    "colin_ksz_lt_alm = hp.read_alm('maps/Colin/ksz_lt_alm.fits')\n",
    "colin_ksz_lt_band = curvedsky.alm2map(colin_ksz_lt_alm, enmap.empty(band_shape, band_wcs))"
   ]
  },
  {
   "cell_type": "code",
   "execution_count": 8,
   "metadata": {},
   "outputs": [],
   "source": [
    "websky_ksz_ri_alm = hp.read_alm('maps/websky/ksz_ri_alm.fits')\n",
    "websky_ksz_ri_band = curvedsky.alm2map(websky_ksz_ri_alm, enmap.empty(band_shape, band_wcs))"
   ]
  },
  {
   "cell_type": "code",
   "execution_count": 9,
   "metadata": {},
   "outputs": [],
   "source": [
    "websky_ksz_lt_alm = hp.read_alm('maps/websky/ksz_lt_alm.fits')\n",
    "websky_ksz_lt_band = curvedsky.alm2map(websky_ksz_lt_alm, enmap.empty(band_shape, band_wcs))"
   ]
  },
  {
   "cell_type": "code",
   "execution_count": 13,
   "metadata": {},
   "outputs": [],
   "source": [
    "Ls1, Recon1 = recon_lens(ellmin, ellmax, nlev_t, beam_arcmin, px_arcmin, width_deg, cmb1=colin_ksz_lt_band).auto(Lmin, Lmax, delta_L)\n",
    "Ls2, Recon2 = recon_lens(ellmin, ellmax, nlev_t, beam_arcmin, px_arcmin, width_deg, cmb1=websky_ksz_lt_band).auto(Lmin, Lmax, delta_L)\n",
    "Ls3, Recon3 = recon_lens(ellmin, ellmax, nlev_t, beam_arcmin, px_arcmin, width_deg, cmb1=websky_ksz_ri_band).auto(Lmin, Lmax, delta_L)"
   ]
  },
  {
   "cell_type": "code",
   "execution_count": 35,
   "metadata": {},
   "outputs": [
    {
     "data": {
      "image/png": "[encoded data removed]",
      "text/plain": [
       "<Figure size 432x288 with 1 Axes>"
      ]
     },
     "metadata": {
      "needs_background": "light"
     },
     "output_type": "display_data"
    }
   ],
   "source": [
    "plt.plot(Ls1, Recon1.stats['reckap1 x reckap1']['mean'])\n",
    "plt.plot(Ls2, Recon2.stats['reckap1 x reckap1']['mean'])\n",
    "plt.plot(Ls3, Recon3.stats['reckap1 x reckap1']['mean'])\n",
    "plt.legend(['Colin late-time kSZ', 'websky late-time kSZ', 'websky reinoization kSZ'])\n",
    "plt.title(r'${\\mathrm{kappa}}$ from kSZ')\n",
    "plt.xlabel('$\\mathrm{L}$')\n",
    "plt.ylabel('$C_L^{KK}$')\n",
    "plt.yscale('log')\n",
    "plt.savefig(plot_path + 'ksz_kappa.png')"
   ]
  },
  {
   "cell_type": "code",
   "execution_count": null,
   "metadata": {},
   "outputs": [],
   "source": []
  }
 ],
 "metadata": {
  "kernelspec": {
   "display_name": "myenv-jupyter",
   "language": "python",
   "name": "myenv-jupyter"
  },
  "language_info": {
   "codemirror_mode": {
    "name": "ipython",
    "version": 3
   },
   "file_extension": ".py",
   "mimetype": "text/x-python",
   "name": "python",
   "nbconvert_exporter": "python",
   "pygments_lexer": "ipython3",
   "version": "3.7.4"
  }
 },
 "nbformat": 4,
 "nbformat_minor": 4
}
