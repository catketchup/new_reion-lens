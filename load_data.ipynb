{
 "cells": [
  {
   "cell_type": "code",
   "execution_count": 8,
   "metadata": {
    "collapsed": false,
    "jupyter": {
     "outputs_hidden": false
    }
   },
   "outputs": [],
   "source": [
    "from orphics import io, maps, lensing, cosmology, stats\n",
    "from pixell import enmap, curvedsky\n",
    "import numpy as np\n",
    "import os, sys\n",
    "import healpy as hp\n",
    "import matplotlib.pylab as plt\n",
    "import symlens as s\n",
    "from symlens import utils\n",
    "import importlib\n",
    "from mpi4py import MPI\n",
    "import pandas as pd"
   ]
  },
  {
   "cell_type": "code",
   "execution_count": 9,
   "metadata": {
    "collapsed": false,
    "jupyter": {
     "outputs_hidden": false
    }
   },
   "outputs": [],
   "source": [
    "# use maps provided by websky\n",
    "map_path = 'maps/websky/'\n",
    "# path of output data\n",
    "data_path = 'data/'\n",
    "# path of output plots\n",
    "plot_path = 'temp'"
   ]
  },
  {
   "cell_type": "code",
   "execution_count": 10,
   "metadata": {
    "collapsed": false,
    "jupyter": {
     "outputs_hidden": false
    }
   },
   "outputs": [],
   "source": [
    "# lmin, lmax for cmb maps\n",
    "ellmin, ellmax = 100, 4000\n",
    "# lmin, lmax for reconstructed kappa map\n",
    "Lmin, Lmax = 40, 4000\n",
    "# bin width for reconstructed kappa powerspectrum\n",
    "delta_L = 40\n",
    "\n",
    "# noise level for temperature and polarization maps, here we only investiget temperature maps\n",
    "nlev_t = 5\n",
    "nlev_p = np.sqrt(2)*nlev_t\n",
    "# beam size\n",
    "beam_arcmin = 10\n",
    "# pixel size in arcmin\n",
    "px_arcmin = 1.\n",
    "# size of cutout square\n",
    "width_deg = 30"
   ]
  },
  {
   "cell_type": "code",
   "execution_count": 11,
   "metadata": {
    "collapsed": false,
    "jupyter": {
     "outputs_hidden": false
    }
   },
   "outputs": [],
   "source": [
    "# Let's define a cut-sky cylindrical geometry with 1 arcminute pixel width\n",
    "# and a maximum declination extent of +- 15 deg (see below for reason)\n",
    "# band width in deg\n",
    "decmax = 30\n",
    "# shape and wcs  of the band\n",
    "band_shape, band_wcs = enmap.band_geometry(dec_cut=np.deg2rad(decmax),\n",
    "                                 res=np.deg2rad(px_arcmin / 60.))\n",
    "\n",
    "band_modlmap = enmap.modlmap(band_shape, band_wcs)"
   ]
  },
  {
   "cell_type": "code",
   "execution_count": 12,
   "metadata": {
    "collapsed": false,
    "jupyter": {
     "outputs_hidden": false
    }
   },
   "outputs": [
    {
     "name": "stderr",
     "output_type": "stream",
     "text": [
      "/global/homes/h/hongbo/.local/cori/3.7-anaconda-2019.07/lib/python3.7/site-packages/healpy/fitsfunc.py:352: UserWarning: If you are not specifying the input dtype and using the default np.float64 dtype of read_map(), please consider that it will change in a future version to None as to keep the same dtype of the input file: please explicitly set the dtype if it is important to you.\n",
      "  \"If you are not specifying the input dtype and using the default \"\n"
     ]
    },
    {
     "name": "stdout",
     "output_type": "stream",
     "text": [
      "NSIDE = 4096\n",
      "ORDERING = NESTED in fits file\n",
      "INDXSCHM = IMPLICIT\n",
      "Ordering converted to RING\n"
     ]
    }
   ],
   "source": [
    "# read in ksz_band map\n",
    "ksz_map = hp.read_map(map_path+'ksz_patchy.fits',hdu=1)\n",
    "#ksz_alm = hp.map2alm(ksz_map, lmax=ellmax)\n",
    "#ksz_band = curvedsky.alm2map(ksz_alm, enmap.empty(band_shape, band_wcs))"
   ]
  },
  {
   "cell_type": "code",
   "execution_count": 13,
   "metadata": {
    "collapsed": false,
    "jupyter": {
     "outputs_hidden": false
    }
   },
   "outputs": [],
   "source": [
    "# Get ksz's powerspectrum and smooth it\n",
    "ksz_cl = hp.anafast(ksz_map)"
   ]
  },
  {
   "cell_type": "code",
   "execution_count": 24,
   "metadata": {},
   "outputs": [
    {
     "data": {
      "text/plain": [
       "12288"
      ]
     },
     "execution_count": 24,
     "metadata": {},
     "output_type": "execute_result"
    }
   ],
   "source": [
    "ksz_cl.shape[0]"
   ]
  },
  {
   "cell_type": "code",
   "execution_count": 30,
   "metadata": {},
   "outputs": [],
   "source": [
    "# x axis?\n",
    "ksz_dict = {\"ell\":np.arange(0,ksz_cl.shape[0]),\"ksz_cl\":ksz_cl}\n",
    "ksz_df = pd.DataFrame(ksz_dict)\n",
    "ksz_df.to_csv(data_path + 'ksz_cl.csv', index=False)"
   ]
  },
  {
   "cell_type": "code",
   "execution_count": 35,
   "metadata": {},
   "outputs": [],
   "source": [
    "ksz_data = pd.read_csv(data_path + 'ksz_cl.csv')"
   ]
  },
  {
   "cell_type": "code",
   "execution_count": 36,
   "metadata": {},
   "outputs": [],
   "source": [
    "ell, ksz_cl = ksz_data['ell'], ksz_data['ksz_cl']"
   ]
  },
  {
   "cell_type": "code",
   "execution_count": 38,
   "metadata": {},
   "outputs": [
    {
     "data": {
      "text/plain": [
       "[<matplotlib.lines.Line2D at 0x2aaae9b63b50>]"
      ]
     },
     "execution_count": 38,
     "metadata": {},
     "output_type": "execute_result"
    },
    {
     "data": {
      "image/png": "[encoded data removed]",
      "text/plain": [
       "<Figure size 432x288 with 1 Axes>"
      ]
     },
     "metadata": {
      "needs_background": "light"
     },
     "output_type": "display_data"
    }
   ],
   "source": [
    "plt.loglog(ell, ksz_cl)"
   ]
  },
  {
   "cell_type": "code",
   "execution_count": null,
   "metadata": {},
   "outputs": [],
   "source": []
  }
 ],
 "metadata": {
  "kernelspec": {
   "display_name": "myenv-jupyter",
   "language": "python",
   "name": "myenv-jupyter"
  },
  "language_info": {
   "codemirror_mode": {
    "name": "ipython",
    "version": 3
   },
   "file_extension": ".py",
   "mimetype": "text/x-python",
   "name": "python",
   "nbconvert_exporter": "python",
   "pygments_lexer": "ipython3",
   "version": "3.7.4"
  },
  "name": "scratch.ipynb"
 },
 "nbformat": 4,
 "nbformat_minor": 4
}
