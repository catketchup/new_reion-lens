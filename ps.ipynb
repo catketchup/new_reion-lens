{
 "cells": [
  {
   "cell_type": "code",
   "execution_count": 1,
   "metadata": {},
   "outputs": [],
   "source": [
    "from orphics import io, maps, lensing, cosmology, stats\n",
    "from pixell import enmap, curvedsky\n",
    "import numpy as np\n",
    "import os, sys\n",
    "import healpy as hp\n",
    "import matplotlib.pylab as plt\n",
    "import symlens as s\n",
    "from symlens import utils\n",
    "import importlib\n",
    "from mpi4py import MPI\n",
    "import pandas as pd\n",
    "import tools\n",
    "import ipdb\n",
    "import argparse\n",
    "import params as m\n",
    "# Simulate bias of lensing reconstruction from non-Gaussian kSZ\n",
    "# experiments configurations           "
   ]
  },
  {
   "cell_type": "code",
   "execution_count": 12,
   "metadata": {},
   "outputs": [
    {
     "data": {
      "text/plain": [
       "_StoreAction(option_strings=['--delta_L'], dest='delta_L', nargs=None, const=None, default=None, type=<class 'int'>, choices=None, help='delta_L of Kappa', metavar=None)"
      ]
     },
     "execution_count": 12,
     "metadata": {},
     "output_type": "execute_result"
    }
   ],
   "source": [
    "parser = argparse.ArgumentParser()\n",
    "parser.add_argument('--experiment', type=str, help='experiment name')\n",
    "parser.add_argument('--nlev_t',\n",
    "                    type=float,\n",
    "                    help='noise level of temperature field')\n",
    "parser.add_argument('--beam_arcmin', type=float, help='beam_arcmin')\n",
    "parser.add_argument('--ellmin', type=int, help='ellmin of CMB')\n",
    "parser.add_argument('--ellmax', type=int, help='ellmax of CMB')\n",
    "parser.add_argument('--delta_L', type=int, help='delta_L of Kappa')"
   ]
  },
  {
   "cell_type": "code",
   "execution_count": 2,
   "metadata": {},
   "outputs": [],
   "source": [
    "nlev_t1, beam_arcmin1 = 45, 5\n",
    "nlev_t2, beam_arcmin2 = 7, 1.4\n",
    "nlev_t3, beam_arcmin3 = 1, 3\n",
    "ellmin = 30\n",
    "ellmax = 4000\n",
    "delta_L = 200\n",
    "\n",
    "map_source = m.map_source\n",
    "ksz_type = m.ksz_type\n",
    "decmax = m.decmax\n",
    "width_deg = m.width_deg\n",
    "px_arcmin = m.px_arcmin\n",
    "\n",
    "cutouts = m.cutouts\n",
    "\n",
    "# Use maps provided by websky or Colin\n",
    "map_path = m.map_path\n",
    "# Path of output data\n",
    "data_path = m.data_path"
   ]
  },
  {
   "cell_type": "code",
   "execution_count": 3,
   "metadata": {},
   "outputs": [],
   "source": [
    "# shape and wcs  of the band\n",
    "band_shape, band_wcs = enmap.band_geometry(dec_cut=np.deg2rad(decmax),\n",
    "                                           res=np.deg2rad(px_arcmin / 60.))\n",
    "\n",
    "band_modlmap = enmap.modlmap(band_shape, band_wcs)"
   ]
  },
  {
   "cell_type": "code",
   "execution_count": 4,
   "metadata": {},
   "outputs": [
    {
     "name": "stdout",
     "output_type": "stream",
     "text": [
      "reading in Colin lt kSZ map\n",
      "reading in ksz_g map\n",
      "reading in kappa map\n"
     ]
    }
   ],
   "source": [
    "cmb_alm = hp.read_alm(map_path + 'lensed_cmb_alm.fits', hdu=1)\n",
    "# Get cmb band map\n",
    "cmb_band = curvedsky.alm2map(cmb_alm, enmap.empty(band_shape, band_wcs))\n",
    "\n",
    "# Read in ksz_alm and get ksz band map\n",
    "print('reading in %s %s kSZ map' % (map_source, ksz_type))\n",
    "ksz_alm = hp.read_alm(map_path + f'ksz_{ksz_type}_alm.fits')\n",
    "ksz_band = curvedsky.alm2map(ksz_alm, enmap.empty(band_shape, band_wcs))\n",
    "\n",
    "# Read in ksz_g_alm  and get ksz_g_band map, 'g' is for gaussian\n",
    "print('reading in ksz_g map')\n",
    "ksz_g_alm = hp.read_alm(map_path + f'ksz_{ksz_type}_g_alm_6000.fits')\n",
    "ksz_g_band = curvedsky.alm2map(ksz_g_alm, enmap.empty(band_shape, band_wcs))\n",
    "\n",
    "# Read in input kappa map for cross correlation check\n",
    "print('reading in kappa map')\n",
    "kap_alm = hp.read_alm(map_path + 'kappa_alm.fits')\n",
    "kap_band = curvedsky.alm2map(kap_alm, enmap.empty(band_shape, band_wcs))"
   ]
  },
  {
   "cell_type": "code",
   "execution_count": 8,
   "metadata": {},
   "outputs": [
    {
     "name": "stdout",
     "output_type": "stream",
     "text": [
      "Begin to get <cl_kappa_tg_ave>\n"
     ]
    }
   ],
   "source": [
    "npix = int(width_deg * 60 / px_arcmin)\n",
    "ntiles = int(np.prod(band_shape) / npix**2)\n",
    "num_x = int(360 / width_deg)\n",
    "\n",
    "ells = np.arange(0, ellmax+1, 1)\n",
    "# lmin, lmax for reconstructed kappa map\n",
    "Lmin, Lmax = ellmin, ellmax\n",
    "\n",
    "# deconvolved noise power spectrum\n",
    "Cl_noise_TT_de1 = (nlev_t1 * np.pi / 180. / 60.)**2 * np.ones(ells.shape) / utils.gauss_beam(ells, beam_arcmin1)**2\n",
    "Cl_noise_TT_de2 = (nlev_t2 * np.pi / 180. / 60.)**2 * np.ones(ells.shape) / utils.gauss_beam(ells, beam_arcmin2)**2\n",
    "Cl_noise_TT_de3 = (nlev_t3* np.pi / 180. / 60.)**2 * np.ones(ells.shape) / utils.gauss_beam(ells, beam_arcmin3)**2\n",
    "# deconvolved noise band map\n",
    "noise_band1 = curvedsky.rand_map(band_shape, band_wcs, Cl_noise_TT_de1)\n",
    "noise_band2 = curvedsky.rand_map(band_shape, band_wcs, Cl_noise_TT_de2)\n",
    "noise_band3 = curvedsky.rand_map(band_shape, band_wcs, Cl_noise_TT_de3)\n",
    "# ksz_cl = pd.read_csv('maps/Colin/smooth_ksz_cl.csv')['Cl']\n",
    "# cmb_tg\n",
    "cmb_tg1 = cmb_band + ksz_g_band + noise_band1\n",
    "#st_tg = stats.Stats()\n",
    "iy, ix = 0, 0\n",
    "print('Begin to get <cl_kappa_tg_ave>')\n",
    "Data_dict = {}"
   ]
  },
  {
   "cell_type": "code",
   "execution_count": 11,
   "metadata": {},
   "outputs": [
    {
     "data": {
      "text/plain": [
       "[]"
      ]
     },
     "execution_count": 11,
     "metadata": {},
     "output_type": "execute_result"
    },
    {
     "data": {
      "image/png": "[encoded data removed]",
      "text/plain": [
       "<Figure size 432x288 with 1 Axes>"
      ]
     },
     "metadata": {
      "needs_background": "light"
     },
     "output_type": "display_data"
    }
   ],
   "source": [
    "plt.plot(ells, Cl_noise_TT_de1, label='nlev=%s, beam=%s' %(nlev_t1, beam_arcmin1))\n",
    "plt.plot(ells, Cl_noise_TT_de2, label='nlev=%s, beam=%s' %(nlev_t2, beam_arcmin2))\n",
    "plt.plot(ells, Cl_noise_TT_de3, label='nlev=%s, beam=%s' %(nlev_t3, beam_arcmin3))\n",
    "plt.legend()\n",
    "plt.loglog()"
   ]
  },
  {
   "cell_type": "code",
   "execution_count": 94,
   "metadata": {},
   "outputs": [],
   "source": [
    "cmb = cmb_band\n",
    "cmb_n = cmb_band + noise_band\n",
    "cmb_nt = cmb_band + ksz_band + noise_band"
   ]
  },
  {
   "cell_type": "code",
   "execution_count": 95,
   "metadata": {},
   "outputs": [],
   "source": [
    "cmb_alm = curvedsky.map2alm(cmb, lmax=ellmax)\n",
    "cmb_n_alm = curvedsky.map2alm(cmb_n, lmax=ellmax)\n",
    "cmb_nt_alm = curvedsky.map2alm(cmb_nt, lmax=ellmax)\n",
    "cmb_cl = hp.alm2cl(cmb_alm)\n",
    "cmb_n_cl = hp.alm2cl(cmb_n_alm)\n",
    "cmb_nt_cl = hp.alm2cl(cmb_nt_alm)"
   ]
  },
  {
   "cell_type": "code",
   "execution_count": 97,
   "metadata": {},
   "outputs": [
    {
     "data": {
      "text/plain": [
       "[]"
      ]
     },
     "execution_count": 97,
     "metadata": {},
     "output_type": "execute_result"
    },
    {
     "data": {
      "image/png": "[encoded data removed]",
      "text/plain": [
       "<Figure size 432x288 with 1 Axes>"
      ]
     },
     "metadata": {
      "needs_background": "light"
     },
     "output_type": "display_data"
    }
   ],
   "source": [
    "pf = np.arange(0, ellmax+1, 1)\n",
    "#pf =1\n",
    "#plt.plot(pf*cmb_cl, label='lensed CMB')\n",
    "plt.plot(pf*cmb_n_cl, label='lensed CMB + Noise')\n",
    "plt.plot(pf*cmb_nt_cl, label='lensed CMB + kSZ + Noise')\n",
    "plt.legend()\n",
    "plt.loglog()"
   ]
  },
  {
   "cell_type": "code",
   "execution_count": null,
   "metadata": {},
   "outputs": [],
   "source": []
  }
 ],
 "metadata": {
  "kernelspec": {
   "display_name": "myenv-jupyter",
   "language": "python",
   "name": "myenv-jupyter"
  },
  "language_info": {
   "codemirror_mode": {
    "name": "ipython",
    "version": 3
   },
   "file_extension": ".py",
   "mimetype": "text/x-python",
   "name": "python",
   "nbconvert_exporter": "python",
   "pygments_lexer": "ipython3",
   "version": "3.7.4"
  }
 },
 "nbformat": 4,
 "nbformat_minor": 4
}
