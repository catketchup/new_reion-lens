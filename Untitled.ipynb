{
 "cells": [
  {
   "cell_type": "code",
   "execution_count": 2,
   "metadata": {},
   "outputs": [],
   "source": [
    "import numpy as np\n",
    "import healpy as hp\n",
    "import pandas as pd\n",
    "import matplotlib.pyplot as plt\n",
    "import tools\n",
    "from IPython.core.interactiveshell import InteractiveShell\n",
    "InteractiveShell.ast_node_interactivity = \"all\""
   ]
  },
  {
   "cell_type": "code",
   "execution_count": 3,
   "metadata": {},
   "outputs": [],
   "source": [
    "ellmax = 7000\n",
    "ells = np.arange(0, ellmax+1, 1)\n",
    "map_source = 'Colin'\n",
    "\n",
    "lensed_cmb_file = './maps/Colin/original/Sehgalsimparams_healpix_4096_KappaeffLSStoCMBfullsky_phi_SimLens_Tsynfastnopell_fast_lmax8000_nside4096_interp2.5_method1_1_lensed_map.fits'\n",
    "phi_file = path + './maps/Colin/original/healpix_4096_KappaeffLSStoCMBfullsky_phi.fits'\n",
    "ksz_file = path + '/maps/Colin/original/148_ksz_healpix_nopell_Nside4096_DeltaT_uK.fits'"
   ]
  },
  {
   "cell_type": "code",
   "execution_count": 11,
   "metadata": {},
   "outputs": [
    {
     "name": "stderr",
     "output_type": "stream",
     "text": [
      "/global/homes/h/hongbo/.local/cori/3.7-anaconda-2019.07/lib/python3.7/site-packages/healpy/fitsfunc.py:352: UserWarning: If you are not specifying the input dtype and using the default np.float64 dtype of read_map(), please consider that it will change in a future version to None as to keep the same dtype of the input file: please explicitly set the dtype if it is important to you.\n",
      "  \"If you are not specifying the input dtype and using the default \"\n"
     ]
    },
    {
     "name": "stdout",
     "output_type": "stream",
     "text": [
      "NSIDE = 4096\n",
      "ORDERING = RING in fits file\n",
      "INDXSCHM = IMPLICIT\n"
     ]
    },
    {
     "name": "stderr",
     "output_type": "stream",
     "text": [
      "/global/homes/h/hongbo/.local/cori/3.7-anaconda-2019.07/lib/python3.7/site-packages/healpy/fitsfunc.py:352: UserWarning: If you are not specifying the input dtype and using the default np.float64 dtype of read_map(), please consider that it will change in a future version to None as to keep the same dtype of the input file: please explicitly set the dtype if it is important to you.\n",
      "  \"If you are not specifying the input dtype and using the default \"\n"
     ]
    },
    {
     "name": "stdout",
     "output_type": "stream",
     "text": [
      "NSIDE = 4096\n",
      "ORDERING = RING in fits file\n",
      "INDXSCHM = IMPLICIT\n",
      "NSIDE = 4096\n",
      "ORDERING = RING in fits file\n",
      "INDXSCHM = IMPLICIT\n"
     ]
    }
   ],
   "source": [
    "lensed_cmb = hp.read_map(lensed_cmb_file)\n",
    "phi = hp.read_map(phi_file)\n",
    "ksz = hp.read_map(ksz_file)"
   ]
  },
  {
   "cell_type": "code",
   "execution_count": 12,
   "metadata": {},
   "outputs": [],
   "source": [
    "# map to alms\n",
    "lensed_cmb_alms = hp.map2alm(lensed_cmb, lmax=ellmax)\n",
    "phi_alms = hp.map2alm(phi, lmax=ellmax)\n",
    "kap_alms = hp.almxfl(phi_alms, ells**2/2) \n",
    "ksz_alms = hp.map2alm(ksz, lmax=ellmax) "
   ]
  },
  {
   "cell_type": "code",
   "execution_count": 13,
   "metadata": {},
   "outputs": [],
   "source": [
    "# write alms\n",
    "hp.write_alm('maps/Colin/alms/lensed_cmb_alms_%s.fits' %(ellmax), lensed_cmb_alms, overwrite=True)\n",
    "hp.write_alm('maps/Colin/alms/phi_alms_%s.fits' %(ellmax), phi_alms, overwrite=True)\n",
    "hp.write_alm('maps/Colin/alms/kap_alms_%s.fits' %(ellmax), kap_alms, overwrite=True)\n",
    "hp.write_alm('maps/Colin/alms/ksz_alms_%s.fits' %(ellmax), ksz_alms, overwrite=True)"
   ]
  },
  {
   "cell_type": "code",
   "execution_count": 20,
   "metadata": {},
   "outputs": [],
   "source": [
    "# alm to cl\n",
    "lensed_cmb_cls = hp.alm2cl(lensed_cmb_alms)\n",
    "phi_cls = hp.alm2cl(phi_alms)\n",
    "kap_cls = hp.alm2cl(kap_alms)\n",
    "ksz_cls = hp.alm2cl(ksz_alms)"
   ]
  },
  {
   "cell_type": "code",
   "execution_count": 33,
   "metadata": {},
   "outputs": [],
   "source": [
    "# write cl\n",
    "lensed_cmb_cls_df = pd.DataFrame({'ells':ells, 'cls':lensed_cmb_cls})\n",
    "phi_cls_df = pd.DataFrame({'ells':ells, 'cls':phi_cls})\n",
    "kap_cls_df = pd.DataFrame({'ells':ells, 'cls':kap_cls})\n",
    "ksz_cls_df = pd.DataFrame({'ells':ells, 'cls':ksz_cls})"
   ]
  },
  {
   "cell_type": "code",
   "execution_count": 34,
   "metadata": {},
   "outputs": [],
   "source": [
    "lensed_cmb_cls_df.to_csv('maps/Colin/cls/lensed_cmb_cls_%s.csv' %(ellmax), index=False)\n",
    "phi_cls_df.to_csv('maps/Colin/cls/phi_cls_%s.csv' %(ellmax), index=False)\n",
    "kap_cls_df.to_csv('maps/Colin/cls/kap_cls_%s.csv' %(ellmax), index=False)\n",
    "ksz_cls_df.to_csv('maps/Colin/cls/ksz_cls_%s.csv' %(ellmax), index=False)"
   ]
  },
  {
   "cell_type": "code",
   "execution_count": 26,
   "metadata": {},
   "outputs": [],
   "source": [
    "# smooth ksz\n",
    "bin_ellmin, bin_ellmax, bin_width = 10, 7100, 20\n",
    "smooth_ellmin, smooth_ellmax, smooth_width = 20, 7000, 1"
   ]
  },
  {
   "cell_type": "code",
   "execution_count": 17,
   "metadata": {},
   "outputs": [
    {
     "data": {
      "text/plain": [
       "numpy.ndarray"
      ]
     },
     "execution_count": 17,
     "metadata": {},
     "output_type": "execute_result"
    },
    {
     "data": {
      "text/plain": [
       "24510501"
      ]
     },
     "execution_count": 17,
     "metadata": {},
     "output_type": "execute_result"
    },
    {
     "data": {
      "text/plain": [
       "24510501"
      ]
     },
     "execution_count": 17,
     "metadata": {},
     "output_type": "execute_result"
    }
   ],
   "source": [
    "type(lensed_cmb_alms)\n",
    "len(lensed_cmb_alms)\n",
    "len(phi_alms)"
   ]
  },
  {
   "cell_type": "code",
   "execution_count": 32,
   "metadata": {},
   "outputs": [
    {
     "data": {
      "text/plain": [
       "7001"
      ]
     },
     "execution_count": 32,
     "metadata": {},
     "output_type": "execute_result"
    }
   ],
   "source": [
    "len(ksz_cls)"
   ]
  },
  {
   "cell_type": "code",
   "execution_count": null,
   "metadata": {},
   "outputs": [],
   "source": []
  }
 ],
 "metadata": {
  "kernelspec": {
   "display_name": "myenv-jupyter",
   "language": "python",
   "name": "myenv-jupyter"
  },
  "language_info": {
   "codemirror_mode": {
    "name": "ipython",
    "version": 3
   },
   "file_extension": ".py",
   "mimetype": "text/x-python",
   "name": "python",
   "nbconvert_exporter": "python",
   "pygments_lexer": "ipython3",
   "version": "3.7.4"
  }
 },
 "nbformat": 4,
 "nbformat_minor": 4
}
