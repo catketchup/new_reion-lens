{
 "cells": [
  {
   "cell_type": "code",
   "execution_count": 34,
   "metadata": {
    "collapsed": false,
    "jupyter": {
     "outputs_hidden": false
    }
   },
   "outputs": [],
   "source": [
    "from pixell import enmap, curvedsky\n",
    "import numpy as np\n",
    "import healpy as hp\n",
    "import matplotlib.pylab as plt\n",
    "import importlib\n",
    "import pandas as pd\n",
    "import tools\n",
    "from IPython.core.interactiveshell import InteractiveShell\n",
    "InteractiveShell.ast_node_interactivity = \"all\""
   ]
  },
  {
   "cell_type": "code",
   "execution_count": 73,
   "metadata": {
    "collapsed": false,
    "jupyter": {
     "outputs_hidden": false
    }
   },
   "outputs": [],
   "source": [
    "# map source, 'Colin' or 'websky'\n",
    "map_source = 'websky'\n",
    "# ksz type , 'lt' for late-time, 'ri' for reionization\n",
    "ksz_type = 'ri'\n",
    "# ksz name used in legend and titles\n",
    "if ksz_type == 'lt':\n",
    "    ksz_name = 'late-time'\n",
    "else:\n",
    "    ksz_name = 'reionization'\n",
    "# use maps provided by websky\n",
    "map_path ='./maps/' + map_source +'/'\n",
    "# path of output data\n",
    "data_path = 'data/' + map_source + '/'\n",
    "# path of output plots\n",
    "plot_path = './maps/'+ map_source + '/'"
   ]
  },
  {
   "cell_type": "code",
   "execution_count": 74,
   "metadata": {},
   "outputs": [],
   "source": [
    "smooth_ellmin, smooth_ellmax = 20, 6000\n",
    "smooth_width = 1"
   ]
  },
  {
   "cell_type": "code",
   "execution_count": 75,
   "metadata": {},
   "outputs": [],
   "source": [
    "# read in ksz, lensed cmb , kappa csv files\n",
    "ksz = pd.read_csv(map_path + 'ksz_'+ksz_type+'_cl.csv')\n",
    "lensed = pd.read_csv(map_path + 'lensed_cmb_cl.csv')\n",
    "kap = pd.read_csv(map_path + 'kappa_cl.csv')\n",
    "# \n",
    "bin_width = 20\n",
    "bin_ellmin, bin_ellmax = 10, 6100\n",
    "\n",
    "\n",
    "bin_ells = ksz['ell'].values[bin_ellmin:bin_ellmax+1]\n",
    "ksz_cl = ksz['Cl'].values[bin_ellmin:bin_ellmax+1]\n",
    "\n",
    "ells = lensed['ell'].values[bin_ellmin:bin_ellmax+1]\n",
    "lensed_cl = lensed['Cl'].values[bin_ellmin:bin_ellmax+1]\n",
    "\n",
    "ells = kap['ell'].values[bin_ellmin:bin_ellmax+1]\n",
    "kap_cl = kap['Cl'].values[bin_ellmin:bin_ellmax+1]"
   ]
  },
  {
   "cell_type": "code",
   "execution_count": 76,
   "metadata": {},
   "outputs": [
    {
     "data": {
      "text/plain": [
       "<module 'tools' from '/global/cscratch1/sd/hongbo/new_reion-lens/tools.py'>"
      ]
     },
     "execution_count": 76,
     "metadata": {},
     "output_type": "execute_result"
    }
   ],
   "source": [
    "importlib.reload(tools)\n",
    "# smooth cls range and width\n",
    "smooth_ellmin, smooth_ellmax = 20, 6000\n",
    "smooth_width = 1\n",
    "# smooth ksz_ri_cl and ksz_lt_cl\n",
    "S_ksz = tools.bin_smooth(ells, ksz_cl, bin_width)\n",
    "S_lensed = tools.bin_smooth(ells, lensed_cl, bin_width)\n",
    "S_kap = tools.bin_smooth(ells, kap_cl, bin_width)\n",
    "\n",
    "smooth_ells, smooth_ksz_cl = S_ksz.smooth(smooth_ellmin, smooth_ellmax, smooth_width)\n",
    "smooth_ells, smooth_lensed_cl = S_lensed.smooth(smooth_ellmin, smooth_ellmax, smooth_width)\n",
    "smooth_ells, smooth_kap_cl = S_kap.smooth(smooth_ellmin, smooth_ellmax, smooth_width)"
   ]
  },
  {
   "cell_type": "code",
   "execution_count": 77,
   "metadata": {},
   "outputs": [
    {
     "data": {
      "text/plain": [
       "Text(0.5, 0.98, 'websky power spectra')"
      ]
     },
     "execution_count": 77,
     "metadata": {},
     "output_type": "execute_result"
    },
    {
     "data": {
      "text/plain": [
       "[<matplotlib.lines.Line2D at 0x2aaaea1a9b90>]"
      ]
     },
     "execution_count": 77,
     "metadata": {},
     "output_type": "execute_result"
    },
    {
     "data": {
      "text/plain": [
       "[<matplotlib.lines.Line2D at 0x2aaaea1a9d90>]"
      ]
     },
     "execution_count": 77,
     "metadata": {},
     "output_type": "execute_result"
    },
    {
     "data": {
      "text/plain": [
       "[<matplotlib.lines.Line2D at 0x2aaaea1b2650>]"
      ]
     },
     "execution_count": 77,
     "metadata": {},
     "output_type": "execute_result"
    },
    {
     "data": {
      "text/plain": [
       "Text(0.5, 1.0, 'before smooth, ellmin=10 ellmax=6100')"
      ]
     },
     "execution_count": 77,
     "metadata": {},
     "output_type": "execute_result"
    },
    {
     "data": {
      "text/plain": [
       "<matplotlib.legend.Legend at 0x2aaaea1b2f50>"
      ]
     },
     "execution_count": 77,
     "metadata": {},
     "output_type": "execute_result"
    },
    {
     "data": {
      "text/plain": [
       "Text(0.5, 0, '$l$')"
      ]
     },
     "execution_count": 77,
     "metadata": {},
     "output_type": "execute_result"
    },
    {
     "data": {
      "text/plain": [
       "Text(0, 0.5, '$Cl_{l}^{kSZ}$')"
      ]
     },
     "execution_count": 77,
     "metadata": {},
     "output_type": "execute_result"
    },
    {
     "data": {
      "text/plain": [
       "[<matplotlib.lines.Line2D at 0x2aaaea18b790>]"
      ]
     },
     "execution_count": 77,
     "metadata": {},
     "output_type": "execute_result"
    },
    {
     "data": {
      "text/plain": [
       "[<matplotlib.lines.Line2D at 0x2aaaea1a9ed0>]"
      ]
     },
     "execution_count": 77,
     "metadata": {},
     "output_type": "execute_result"
    },
    {
     "data": {
      "text/plain": [
       "[<matplotlib.lines.Line2D at 0x2aaaea1b8750>]"
      ]
     },
     "execution_count": 77,
     "metadata": {},
     "output_type": "execute_result"
    },
    {
     "data": {
      "text/plain": [
       "Text(0.5, 1.0, 'after smooth, ellmin=20 ellmax=6000')"
      ]
     },
     "execution_count": 77,
     "metadata": {},
     "output_type": "execute_result"
    },
    {
     "data": {
      "text/plain": [
       "<matplotlib.legend.Legend at 0x2aaaea13f450>"
      ]
     },
     "execution_count": 77,
     "metadata": {},
     "output_type": "execute_result"
    },
    {
     "data": {
      "text/plain": [
       "Text(0.5, 0, '$l$')"
      ]
     },
     "execution_count": 77,
     "metadata": {},
     "output_type": "execute_result"
    },
    {
     "data": {
      "text/plain": [
       "Text(0, 0.5, '$Cl_{l}^{kSZ}$')"
      ]
     },
     "execution_count": 77,
     "metadata": {},
     "output_type": "execute_result"
    },
    {
     "data": {
      "image/png": "[encoded data removed]",
      "text/plain": [
       "<Figure size 1080x288 with 2 Axes>"
      ]
     },
     "metadata": {
      "needs_background": "light"
     },
     "output_type": "display_data"
    }
   ],
   "source": [
    "fig, ax = plt.subplots(1,2,figsize=(15,4))\n",
    "\n",
    "fig.suptitle(map_source + ' power spectra')\n",
    "ax[0].plot(ells, lensed_cl)\n",
    "ax[0].plot(ells, kap_cl)\n",
    "ax[0].plot(ells, ksz_cl)\n",
    "ax[0].set_title(f'before smooth, ellmin={bin_ellmin} ellmax={bin_ellmax}')\n",
    "ax[0].legend(['lensed CMB', 'kappa', ksz_name + ' kSZ'])\n",
    "ax[0].set_xscale('log')\n",
    "ax[0].set_yscale('log') \n",
    "ax[0].set_xlabel('$l$')                                                                        \n",
    "ax[0].set_ylabel('$Cl_{l}^{kSZ}$')      \n",
    "\n",
    "ax[1].plot(smooth_ells, smooth_lensed_cl)\n",
    "ax[1].plot(smooth_ells, smooth_kap_cl)\n",
    "ax[1].plot(smooth_ells, smooth_ksz_cl)\n",
    "ax[1].set_title(f'after smooth, ellmin={smooth_ellmin} ellmax={smooth_ellmax}')\n",
    "ax[1].legend(['lensed CMB','kappa', ksz_name+' kSZ'])\n",
    "ax[1].set_xscale('log')\n",
    "ax[1].set_yscale('log')\n",
    "ax[1].set_xlabel('$l$')                                                                        \n",
    "ax[1].set_ylabel('$Cl_{l}^{kSZ}$')      \n",
    "\n",
    "#plt.savefig(plot_path + 'ps.png')"
   ]
  },
  {
   "cell_type": "code",
   "execution_count": 78,
   "metadata": {},
   "outputs": [
    {
     "name": "stderr",
     "output_type": "stream",
     "text": [
      "/global/homes/h/hongbo/.local/cori/3.7-anaconda-2019.07/lib/python3.7/site-packages/healpy/sphtfunc.py:400: FutureChangeWarning: The order of the input cl's will change in a future release.\n",
      "Use new=True keyword to start using the new order.\n",
      "See documentation of healpy.synalm.\n",
      "  category=FutureChangeWarning,\n"
     ]
    }
   ],
   "source": [
    "# concatenate the power spectrum, so it ranges from 0\n",
    "smooth_ksz_cl = np.concatenate([np.zeros(smooth_ellmin), smooth_ksz_cl])\n",
    "smooth_lensed_cl = np.concatenate([np.zeros(smooth_ellmin), smooth_lensed_cl])\n",
    "smooth_ells = np.concatenate([np.zeros(smooth_ellmin), smooth_ells])\n",
    "\n",
    "# generate ksz gaussian alm from the smooth ksz cl\n",
    "ksz_g_alm = hp.synalm(smooth_ksz_cl) "
   ]
  },
  {
   "cell_type": "code",
   "execution_count": 79,
   "metadata": {},
   "outputs": [
    {
     "data": {
      "text/plain": [
       "[<matplotlib.lines.Line2D at 0x2aaaea29a790>]"
      ]
     },
     "execution_count": 79,
     "metadata": {},
     "output_type": "execute_result"
    },
    {
     "data": {
      "text/plain": [
       "[<matplotlib.lines.Line2D at 0x2aaaea361f10>]"
      ]
     },
     "execution_count": 79,
     "metadata": {},
     "output_type": "execute_result"
    },
    {
     "data": {
      "text/plain": [
       "<matplotlib.legend.Legend at 0x2aaaea2fab50>"
      ]
     },
     "execution_count": 79,
     "metadata": {},
     "output_type": "execute_result"
    },
    {
     "data": {
      "text/plain": [
       "Text(0.5, 1.0, '$C_{l}^{kSZ}$')"
      ]
     },
     "execution_count": 79,
     "metadata": {},
     "output_type": "execute_result"
    },
    {
     "data": {
      "text/plain": [
       "Text(0.5, 0, '$l$')"
      ]
     },
     "execution_count": 79,
     "metadata": {},
     "output_type": "execute_result"
    },
    {
     "data": {
      "text/plain": [
       "Text(0, 0.5, '$Cl_{l}^{kSZ}$')"
      ]
     },
     "execution_count": 79,
     "metadata": {},
     "output_type": "execute_result"
    },
    {
     "data": {
      "image/png": "[encoded data removed]",
      "text/plain": [
       "<Figure size 432x288 with 1 Axes>"
      ]
     },
     "metadata": {
      "needs_background": "light"
     },
     "output_type": "display_data"
    }
   ],
   "source": [
    "# get ksz cl from ksz gaussian alm\n",
    "ksz_g_cl = hp.alm2cl(ksz_g_alm)\n",
    "# check ksz_g_cl \n",
    "plt.loglog(smooth_ells, smooth_ksz_cl)\n",
    "plt.loglog(smooth_ells, ksz_g_cl)\n",
    "plt.legend([ 'smooth ksz_cl', 'ksz_cl Gaussian realization'])\n",
    "plt.title('$C_{l}^{kSZ}$')\n",
    "plt.xlabel('$l$')\n",
    "plt.ylabel('$Cl_{l}^{kSZ}$')\n",
    "plt.savefig(plot_path+'ksz_gaussian_realization.png')"
   ]
  },
  {
   "cell_type": "code",
   "execution_count": 80,
   "metadata": {},
   "outputs": [],
   "source": [
    "# Write ksz_g_alm on disk\n",
    "hp.write_alm(map_path+'ksz_'+ksz_type + '_g_alm_%s.fits' %(smooth_ellmax), ksz_g_alm, overwrite=True)"
   ]
  },
  {
   "cell_type": "code",
   "execution_count": 84,
   "metadata": {},
   "outputs": [],
   "source": [
    "# compare Colin's late-time kSZ and websky's late-time kSZ\n",
    "ksz_lt_g_alm_Colin = hp.read_alm('maps/Colin/ksz_' + 'lt_' + 'g_alm_%s.fits' %(smooth_ellmax))\n",
    "ksz_ri_g_alm_websky = hp.read_alm('maps/websky/ksz_' + 'ri_' + 'g_alm_%s.fits' %(smooth_ellmax))\n",
    "ksz_lt_g_alm_websky = hp.read_alm('maps/websky/ksz_' + 'lt_' + 'g_alm_%s.fits' %(smooth_ellmax))"
   ]
  },
  {
   "cell_type": "code",
   "execution_count": 87,
   "metadata": {},
   "outputs": [
    {
     "data": {
      "text/plain": [
       "[<matplotlib.lines.Line2D at 0x2aaae9d57310>]"
      ]
     },
     "execution_count": 87,
     "metadata": {},
     "output_type": "execute_result"
    },
    {
     "data": {
      "text/plain": [
       "[<matplotlib.lines.Line2D at 0x2aaae9d57a90>]"
      ]
     },
     "execution_count": 87,
     "metadata": {},
     "output_type": "execute_result"
    },
    {
     "data": {
      "text/plain": [
       "[<matplotlib.lines.Line2D at 0x2aaae87a1750>]"
      ]
     },
     "execution_count": 87,
     "metadata": {},
     "output_type": "execute_result"
    },
    {
     "data": {
      "text/plain": [
       "<matplotlib.legend.Legend at 0x2aaae9d57f50>"
      ]
     },
     "execution_count": 87,
     "metadata": {},
     "output_type": "execute_result"
    },
    {
     "data": {
      "text/plain": [
       "(40, 6000)"
      ]
     },
     "execution_count": 87,
     "metadata": {},
     "output_type": "execute_result"
    },
    {
     "data": {
      "text/plain": [
       "[]"
      ]
     },
     "execution_count": 87,
     "metadata": {},
     "output_type": "execute_result"
    },
    {
     "data": {
      "image/png": "[encoded data removed]",
      "text/plain": [
       "<Figure size 432x288 with 1 Axes>"
      ]
     },
     "metadata": {
      "needs_background": "light"
     },
     "output_type": "display_data"
    }
   ],
   "source": [
    "ksz_lt_g_cl_Colin = hp.alm2cl( ksz_lt_g_alm_Colin)\n",
    "ksz_lt_g_cl_websky = hp.alm2cl( ksz_lt_g_alm_websky)\n",
    "ksz_ri_g_cl_websky = hp.alm2cl( ksz_ri_g_alm_websky)\n",
    "plt.plot(ksz_lt_g_cl_Colin)\n",
    "plt.plot(ksz_lt_g_cl_websky)\n",
    "plt.plot(ksz_ri_g_cl_websky)\n",
    "plt.legend(['ksz_lt_g_cl Colin', 'ksz_lt_g_cl websky', 'ksz_ri_g_cl websky'])\n",
    "plt.xlim([40, 6000])\n",
    "plt.loglog()"
   ]
  }
 ],
 "metadata": {
  "kernelspec": {
   "display_name": "myenv-jupyter",
   "language": "python",
   "name": "myenv-jupyter"
  },
  "language_info": {
   "codemirror_mode": {
    "name": "ipython",
    "version": 3
   },
   "file_extension": ".py",
   "mimetype": "text/x-python",
   "name": "python",
   "nbconvert_exporter": "python",
   "pygments_lexer": "ipython3",
   "version": "3.7.4"
  },
  "name": "smooth.ipynb"
 },
 "nbformat": 4,
 "nbformat_minor": 4
}
