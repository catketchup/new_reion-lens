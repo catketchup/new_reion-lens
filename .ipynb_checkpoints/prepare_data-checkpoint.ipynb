{
 "cells": [
  {
   "cell_type": "code",
   "execution_count": 23,
   "metadata": {},
   "outputs": [],
   "source": [
    "import numpy as np\n",
    "import healpy as hp\n",
    "import pandas as pd\n",
    "import matplotlib.pyplot as plt"
   ]
  },
  {
   "cell_type": "code",
   "execution_count": 20,
   "metadata": {},
   "outputs": [],
   "source": [
    "def convert(input_map, lmax, output_path, output_name):\n",
    "    \"\"\"read in fits map, get alms and cl from the map and write them on disk\"\"\"\n",
    "    Map = hp.read_map(input_map)\n",
    "    alm = hp.map2alm(Map, lmax=lmax)\n",
    "    hp.write_alm(output_path+f'{output_name}_alm_{lmax}.fits', alm, overwrite=True)\n",
    "    \n",
    "    cl = hp.alm2cl(alm)\n",
    "    data_dict = {'ell':np.arange(0, cl.shape[0]), 'Cl':cl}\n",
    "    data_df = pd.DataFrame(data_dict)\n",
    "    data_df.to_csv(output_path + f'{output_name}_cl_{lmax}.csv', index=False)"
   ]
  },
  {
   "cell_type": "code",
   "execution_count": 25,
   "metadata": {},
   "outputs": [],
   "source": [
    "lmax = 7000\n",
    "output_path = './maps/sehgal/'\n",
    "\n",
    "lensed_cmb = './maps/sehgal/Sehgalsimparams_healpix_4096_KappaeffLSStoCMBfullsky_phi_SimLens_Tsynfastnopell_fast_lmax8000_nside4096_interp2.5_method1_1_lensed_map.fits'\n",
    "lensed_cmb_output_name = 'lensed_cmb'\n",
    "\n",
    "ksz_lt = './maps/sehgal/148_ksz_healpix_nopell_Nside4096_DeltaT_uK.fits'\n",
    "ksz_lt_output_name = 'ksz_lt'\n",
    "\n",
    "kappa = './maps/sehgal/healpix_4096_KappaeffLSStoCMBfullsky.fits'\n",
    "kappa_output_name = 'kappa'"
   ]
  },
  {
   "cell_type": "code",
   "execution_count": 18,
   "metadata": {},
   "outputs": [
    {
     "name": "stdout",
     "output_type": "stream",
     "text": [
      "NSIDE = 4096\n",
      "ORDERING = RING in fits file\n",
      "INDXSCHM = IMPLICIT\n"
     ]
    }
   ],
   "source": [
    "convert(lensed_cmb, lmax, output_path, lensed_cmb_output_name)"
   ]
  },
  {
   "cell_type": "code",
   "execution_count": 26,
   "metadata": {},
   "outputs": [
    {
     "name": "stderr",
     "output_type": "stream",
     "text": [
      "/global/homes/h/hongbo/.local/cori/3.7-anaconda-2019.07/lib/python3.7/site-packages/healpy/fitsfunc.py:352: UserWarning: If you are not specifying the input dtype and using the default np.float64 dtype of read_map(), please consider that it will change in a future version to None as to keep the same dtype of the input file: please explicitly set the dtype if it is important to you.\n",
      "  \"If you are not specifying the input dtype and using the default \"\n"
     ]
    },
    {
     "name": "stdout",
     "output_type": "stream",
     "text": [
      "NSIDE = 4096\n",
      "ORDERING = RING in fits file\n",
      "INDXSCHM = IMPLICIT\n",
      "NSIDE = 4096\n",
      "ORDERING = RING in fits file\n",
      "INDXSCHM = IMPLICIT\n"
     ]
    }
   ],
   "source": [
    "convert(ksz_lt, lmax, output_path, ksz_lt_output_name)\n",
    "convert(kappa, lmax, output_path, kappa_output_name)"
   ]
  },
  {
   "cell_type": "code",
   "execution_count": 27,
   "metadata": {},
   "outputs": [
    {
     "data": {
      "text/plain": [
       "[<matplotlib.lines.Line2D at 0x2aaae1ed8b10>]"
      ]
     },
     "execution_count": 27,
     "metadata": {},
     "output_type": "execute_result"
    },
    {
     "data": {
      "image/png": "[encoded data removed]",
      "text/plain": [
       "<Figure size 432x288 with 1 Axes>"
      ]
     },
     "metadata": {
      "needs_background": "light"
     },
     "output_type": "display_data"
    }
   ],
   "source": [
    "cl_csv = pd.read_csv('./maps/sehgal/kappa_cl_7000.csv')\n",
    "cl = cl_csv['Cl']\n",
    "plt.loglog(cl)"
   ]
  },
  {
   "cell_type": "code",
   "execution_count": null,
   "metadata": {},
   "outputs": [],
   "source": []
  }
 ],
 "metadata": {
  "kernelspec": {
   "display_name": "myenv-jupyter",
   "language": "python",
   "name": "myenv-jupyter"
  },
  "language_info": {
   "codemirror_mode": {
    "name": "ipython",
    "version": 3
   },
   "file_extension": ".py",
   "mimetype": "text/x-python",
   "name": "python",
   "nbconvert_exporter": "python",
   "pygments_lexer": "ipython3",
   "version": "3.7.4"
  }
 },
 "nbformat": 4,
 "nbformat_minor": 4
}
