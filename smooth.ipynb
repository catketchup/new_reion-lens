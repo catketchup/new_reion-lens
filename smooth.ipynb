{
 "cells": [
  {
   "cell_type": "code",
   "execution_count": 98,
   "metadata": {
    "collapsed": false,
    "jupyter": {
     "outputs_hidden": false
    }
   },
   "outputs": [],
   "source": [
    "from orphics import io, maps, lensing, cosmology, stats\n",
    "from pixell import enmap, curvedsky\n",
    "import numpy as np\n",
    "import os, sys\n",
    "import healpy as hp\n",
    "import matplotlib.pylab as plt\n",
    "import symlens as s\n",
    "from symlens import utils\n",
    "import importlib\n",
    "from mpi4py import MPI\n",
    "import pandas as pd\n",
    "import tools\n",
    "from IPython.core.interactiveshell import InteractiveShell\n",
    "InteractiveShell.ast_node_interactivity = \"all\""
   ]
  },
  {
   "cell_type": "code",
   "execution_count": 99,
   "metadata": {
    "collapsed": false,
    "jupyter": {
     "outputs_hidden": false
    }
   },
   "outputs": [],
   "source": [
    "# use maps provided by websky\n",
    "map_path = 'maps/websky/'\n",
    "# path of output data\n",
    "data_path = 'data/'\n",
    "# path of output plots\n",
    "plot_path = 'plots/'"
   ]
  },
  {
   "cell_type": "code",
   "execution_count": 100,
   "metadata": {},
   "outputs": [],
   "source": [
    "smooth_ellmin, smooth_ellmax = 20, 6000\n",
    "smooth_width = 1"
   ]
  },
  {
   "cell_type": "code",
   "execution_count": 101,
   "metadata": {
    "collapsed": false,
    "jupyter": {
     "outputs_hidden": false
    }
   },
   "outputs": [],
   "source": [
    "# Read in reionization ksz and late-time ksz\n",
    "ksz_ri = pd.read_csv(map_path + 'ksz_ri_cl.csv')\n",
    "ksz_lt = pd.read_csv(map_path + 'ksz_lt_cl.csv')\n",
    "lensed = pd.read_csv(map_path + 'lensed_cl.csv')\n",
    "kap = pd.read_csv(map_path + 'kap_cl.csv')\n",
    "bin_width = 20\n",
    "bin_ellmin, bin_ellmax = 10, 6100\n",
    "\n",
    "bin_ri_ells = ksz_ri['ell'].values[bin_ellmin:bin_ellmax+1]\n",
    "ksz_ri_cl = ksz_ri['ksz_cl'].values[bin_ellmin:bin_ellmax+1]\n",
    "\n",
    "bin_lt_ells = ksz_lt['ell'].values[bin_ellmin:bin_ellmax+1]\n",
    "ksz_lt_cl = ksz_lt['ksz_cl'].values[bin_ellmin:bin_ellmax+1]\n",
    "\n",
    "lensed_ells = lensed['ell'].values[bin_ellmin:bin_ellmax+1]\n",
    "lensed_cl = lensed['lensed_cl'].values[bin_ellmin:bin_ellmax+1]\n",
    "\n",
    "kap_ells = kap['ell'].values[bin_ellmin:bin_ellmax+1]\n",
    "kap_cl = kap['kap_cl'].values[bin_ellmin:bin_ellmax+1]"
   ]
  },
  {
   "cell_type": "code",
   "execution_count": 102,
   "metadata": {},
   "outputs": [
    {
     "data": {
      "text/plain": [
       "<module 'tools' from '/global/cscratch1/sd/hongbo/new_reion-lens/tools.py'>"
      ]
     },
     "execution_count": 102,
     "metadata": {},
     "output_type": "execute_result"
    }
   ],
   "source": [
    "importlib.reload(tools)\n",
    "# smooth cls range and width\n",
    "smooth_ellmin, smooth_ellmax = 20, 6000\n",
    "smooth_width = 1\n",
    "# smooth ksz_ri_cl and ksz_lt_cl\n",
    "S_ri = tools.bin_smooth(bin_ells, ksz_ri_cl, bin_width)\n",
    "S_lt = tools.bin_smooth(bin_ells, ksz_lt_cl, bin_width)\n",
    "S_lensed = tools.bin_smooth(bin_ells, lensed_cl, bin_width)\n",
    "S_kap = tools.bin_smooth(bin_ells, kap_cl, bin_width)\n",
    "\n",
    "smooth_ells, smooth_ksz_ri_cl = S_ri.smooth(smooth_ellmin, smooth_ellmax, smooth_width)\n",
    "smooth_ells, smooth_ksz_lt_cl = S_lt.smooth(smooth_ellmin, smooth_ellmax, smooth_width)\n",
    "smooth_ells, smooth_lensed_cl = S_lensed.smooth(smooth_ellmin, smooth_ellmax, smooth_width)\n",
    "smooth_ells, smooth_kap_cl = S_kap.smooth(smooth_ellmin, smooth_ellmax, smooth_width)"
   ]
  },
  {
   "cell_type": "code",
   "execution_count": 104,
   "metadata": {},
   "outputs": [
    {
     "data": {
      "text/plain": [
       "[<matplotlib.lines.Line2D at 0x2aaafdd24310>]"
      ]
     },
     "execution_count": 104,
     "metadata": {},
     "output_type": "execute_result"
    },
    {
     "data": {
      "text/plain": [
       "[<matplotlib.lines.Line2D at 0x2aaafdfa4ad0>]"
      ]
     },
     "execution_count": 104,
     "metadata": {},
     "output_type": "execute_result"
    },
    {
     "data": {
      "text/plain": [
       "[<matplotlib.lines.Line2D at 0x2aaafdfab150>]"
      ]
     },
     "execution_count": 104,
     "metadata": {},
     "output_type": "execute_result"
    },
    {
     "data": {
      "text/plain": [
       "Text(0.5, 1.0, 'before smooth, ellmin=10 ellmax=6100')"
      ]
     },
     "execution_count": 104,
     "metadata": {},
     "output_type": "execute_result"
    },
    {
     "data": {
      "text/plain": [
       "<matplotlib.legend.Legend at 0x2aaafdfab690>"
      ]
     },
     "execution_count": 104,
     "metadata": {},
     "output_type": "execute_result"
    },
    {
     "data": {
      "text/plain": [
       "Text(0.5, 0, '$l$')"
      ]
     },
     "execution_count": 104,
     "metadata": {},
     "output_type": "execute_result"
    },
    {
     "data": {
      "text/plain": [
       "Text(0, 0.5, '$Cl_{l}^{kSZ}$')"
      ]
     },
     "execution_count": 104,
     "metadata": {},
     "output_type": "execute_result"
    },
    {
     "data": {
      "text/plain": [
       "[<matplotlib.lines.Line2D at 0x2aaafdfabc90>]"
      ]
     },
     "execution_count": 104,
     "metadata": {},
     "output_type": "execute_result"
    },
    {
     "data": {
      "text/plain": [
       "[<matplotlib.lines.Line2D at 0x2aaafdfb6550>]"
      ]
     },
     "execution_count": 104,
     "metadata": {},
     "output_type": "execute_result"
    },
    {
     "data": {
      "text/plain": [
       "[<matplotlib.lines.Line2D at 0x2aaafdfb6b90>]"
      ]
     },
     "execution_count": 104,
     "metadata": {},
     "output_type": "execute_result"
    },
    {
     "data": {
      "text/plain": [
       "Text(0.5, 1.0, 'after smooth, ellmin=20 ellmax=6000')"
      ]
     },
     "execution_count": 104,
     "metadata": {},
     "output_type": "execute_result"
    },
    {
     "data": {
      "text/plain": [
       "<matplotlib.legend.Legend at 0x2aaafdfab050>"
      ]
     },
     "execution_count": 104,
     "metadata": {},
     "output_type": "execute_result"
    },
    {
     "data": {
      "text/plain": [
       "Text(0.5, 0, '$l$')"
      ]
     },
     "execution_count": 104,
     "metadata": {},
     "output_type": "execute_result"
    },
    {
     "data": {
      "text/plain": [
       "Text(0, 0.5, '$Cl_{l}^{kSZ}$')"
      ]
     },
     "execution_count": 104,
     "metadata": {},
     "output_type": "execute_result"
    },
    {
     "data": {
      "image/png": "[encoded data removed]",
      "text/plain": [
       "<Figure size 1080x288 with 2 Axes>"
      ]
     },
     "metadata": {
      "needs_background": "light"
     },
     "output_type": "display_data"
    }
   ],
   "source": [
    "fig, ax = plt.subplots(1,2,figsize=(15,4))\n",
    "\n",
    "ax[0].plot(bin_ells, lensed_cl)\n",
    "#ax[0].plot(bin_ells, kap_cl)\n",
    "ax[0].plot(bin_ells, ksz_lt_cl)\n",
    "ax[0].plot(bin_ells, ksz_ri_cl)\n",
    "ax[0].set_title(f'before smooth, ellmin={bin_ellmin} ellmax={bin_ellmax}')\n",
    "ax[0].legend(['lensed CMB','late-time kSZ','reionization kSZ'])\n",
    "ax[0].set_xscale('log')\n",
    "ax[0].set_yscale('log')\n",
    "ax[0].set_xlabel('$l$')                                                                        \n",
    "ax[0].set_ylabel('$Cl_{l}^{kSZ}$')      \n",
    "\n",
    "ax[1].plot(smooth_ells, smooth_lensed_cl)\n",
    "ax[1].plot(smooth_ells, smooth_ksz_lt_cl)\n",
    "ax[1].plot(smooth_ells, smooth_ksz_ri_cl)\n",
    "ax[1].set_title(f'after smooth, ellmin={smooth_ellmin} ellmax={smooth_ellmax}')\n",
    "ax[1].legend(['lensed CMB','late-time kSZ','reionization kSZ'])\n",
    "ax[1].set_xscale('log')\n",
    "ax[1].set_yscale('log')\n",
    "ax[1].set_xlabel('$l$')                                                                        \n",
    "ax[1].set_ylabel('$Cl_{l}^{kSZ}$')      \n",
    "\n",
    "plt.savefig(plot_path + 'ps.png')"
   ]
  },
  {
   "cell_type": "code",
   "execution_count": 87,
   "metadata": {},
   "outputs": [
    {
     "name": "stderr",
     "output_type": "stream",
     "text": [
      "/global/homes/h/hongbo/.local/cori/3.7-anaconda-2019.07/lib/python3.7/site-packages/healpy/sphtfunc.py:400: FutureChangeWarning: The order of the input cl's will change in a future release.\n",
      "Use new=True keyword to start using the new order.\n",
      "See documentation of healpy.synalm.\n",
      "  category=FutureChangeWarning,\n"
     ]
    }
   ],
   "source": [
    "ksz_lt_cl = np.concatenate([np.zeros(smooth_ellmin), smooth_ksz_lt_cl])\n",
    "ksz_ri_cl = np.concatenate([np.zeros(smooth_ellmin), smooth_ksz_ri_cl])\n",
    "smooth_ells = np.concatenate([np.arange(0, smooth_ellmin ,1), smooth_ells])\n",
    "num = 10\n",
    "ksz_lt_g_alm = hp.synalm(ksz_lt_cl) \n",
    "ksz_ri_g_alm = hp.synalm(ksz_ri_cl)\n",
    "ksz_lt_g_cl = hp.alm2cl(ksz_lt_g_alm)\n",
    "ksz_ri_g_cl = hp.alm2cl(ksz_ri_g_alm)"
   ]
  },
  {
   "cell_type": "code",
   "execution_count": 90,
   "metadata": {},
   "outputs": [
    {
     "data": {
      "text/plain": [
       "[<matplotlib.lines.Line2D at 0x2aaafd2b0e50>]"
      ]
     },
     "execution_count": 90,
     "metadata": {},
     "output_type": "execute_result"
    },
    {
     "data": {
      "text/plain": [
       "[<matplotlib.lines.Line2D at 0x2aaafcc07c50>]"
      ]
     },
     "execution_count": 90,
     "metadata": {},
     "output_type": "execute_result"
    },
    {
     "data": {
      "text/plain": [
       "Text(0.5, 1.0, 'ksz_cl, ellmin=20 ellmax=6000')"
      ]
     },
     "execution_count": 90,
     "metadata": {},
     "output_type": "execute_result"
    },
    {
     "data": {
      "text/plain": [
       "<matplotlib.legend.Legend at 0x2aaafcbe8a10>"
      ]
     },
     "execution_count": 90,
     "metadata": {},
     "output_type": "execute_result"
    },
    {
     "data": {
      "text/plain": [
       "Text(0.5, 0, '$l$')"
      ]
     },
     "execution_count": 90,
     "metadata": {},
     "output_type": "execute_result"
    },
    {
     "data": {
      "text/plain": [
       "Text(0, 0.5, '$Cl_{l}^{kSZ}$')"
      ]
     },
     "execution_count": 90,
     "metadata": {},
     "output_type": "execute_result"
    },
    {
     "data": {
      "text/plain": [
       "[<matplotlib.lines.Line2D at 0x2aaafcbe8150>]"
      ]
     },
     "execution_count": 90,
     "metadata": {},
     "output_type": "execute_result"
    },
    {
     "data": {
      "text/plain": [
       "[<matplotlib.lines.Line2D at 0x2aaafcbe8990>]"
      ]
     },
     "execution_count": 90,
     "metadata": {},
     "output_type": "execute_result"
    },
    {
     "data": {
      "text/plain": [
       "Text(0.5, 1.0, 'ksz_cl Gaussian realization, ellmin=20 ellmax=6000')"
      ]
     },
     "execution_count": 90,
     "metadata": {},
     "output_type": "execute_result"
    },
    {
     "data": {
      "text/plain": [
       "<matplotlib.legend.Legend at 0x2aaafcbebe50>"
      ]
     },
     "execution_count": 90,
     "metadata": {},
     "output_type": "execute_result"
    },
    {
     "data": {
      "text/plain": [
       "Text(0.5, 0, '$l$')"
      ]
     },
     "execution_count": 90,
     "metadata": {},
     "output_type": "execute_result"
    },
    {
     "data": {
      "text/plain": [
       "Text(0, 0.5, '$Cl_{l}^{kSZ}$')"
      ]
     },
     "execution_count": 90,
     "metadata": {},
     "output_type": "execute_result"
    },
    {
     "data": {
      "image/png": "[encoded data removed]",
      "text/plain": [
       "<Figure size 1080x288 with 2 Axes>"
      ]
     },
     "metadata": {
      "needs_background": "light"
     },
     "output_type": "display_data"
    }
   ],
   "source": [
    "fig1, ax1 = plt.subplots(1,2,figsize=(15,4))\n",
    "\n",
    "ax1[0].plot(smooth_ells, ksz_lt_cl)\n",
    "ax1[0].plot(smooth_ells, ksz_ri_cl)\n",
    "ax1[0].set_title(f'ksz_cl, ellmin={smooth_ellmin} ellmax={smooth_ellmax}')\n",
    "ax1[0].legend(['late-time kSZ','reionization kSZ'])\n",
    "ax1[0].set_xscale('log')\n",
    "ax1[0].set_yscale('log')\n",
    "ax1[0].set_xlabel('$l$')                                                                        \n",
    "ax1[0].set_ylabel('$Cl_{l}^{kSZ}$')      \n",
    "\n",
    "ax1[1].plot(smooth_ells, ksz_lt_g_cl)\n",
    "ax1[1].plot(smooth_ells, ksz_ri_g_cl)\n",
    "ax1[1].set_title(f'ksz_cl Gaussian realization, ellmin={smooth_ellmin} ellmax={smooth_ellmax}')\n",
    "ax1[1].legend(['late-time kSZ','reionization kSZ'])\n",
    "ax1[1].set_xscale('log')\n",
    "ax1[1].set_yscale('log')\n",
    "ax1[1].set_xlabel('$l$')                                                                        \n",
    "ax1[1].set_ylabel('$Cl_{l}^{kSZ}$')      \n",
    "\n",
    "plt.savefig(plot_path+'realizations_ksz_cl.png')"
   ]
  },
  {
   "cell_type": "code",
   "execution_count": 92,
   "metadata": {},
   "outputs": [
    {
     "data": {
      "text/plain": [
       "[<matplotlib.lines.Line2D at 0x2aaafda2eed0>]"
      ]
     },
     "execution_count": 92,
     "metadata": {},
     "output_type": "execute_result"
    },
    {
     "data": {
      "text/plain": [
       "[<matplotlib.lines.Line2D at 0x2aaafd972dd0>]"
      ]
     },
     "execution_count": 92,
     "metadata": {},
     "output_type": "execute_result"
    },
    {
     "data": {
      "text/plain": [
       "<matplotlib.legend.Legend at 0x2aaafd997fd0>"
      ]
     },
     "execution_count": 92,
     "metadata": {},
     "output_type": "execute_result"
    },
    {
     "data": {
      "text/plain": [
       "Text(0.5, 1.0, '$Cl_{l}^{kSZ}$')"
      ]
     },
     "execution_count": 92,
     "metadata": {},
     "output_type": "execute_result"
    },
    {
     "data": {
      "text/plain": [
       "Text(0.5, 0, '$l$')"
      ]
     },
     "execution_count": 92,
     "metadata": {},
     "output_type": "execute_result"
    },
    {
     "data": {
      "text/plain": [
       "Text(0, 0.5, '$Cl_{l}^{kSZ}$')"
      ]
     },
     "execution_count": 92,
     "metadata": {},
     "output_type": "execute_result"
    },
    {
     "data": {
      "image/png": "[encoded data removed]",
      "text/plain": [
       "<Figure size 432x288 with 1 Axes>"
      ]
     },
     "metadata": {
      "needs_background": "light"
     },
     "output_type": "display_data"
    }
   ],
   "source": [
    "# check one realization ksz_cl_g and  ksz_cl\n",
    "plt.loglog(smooth_ells, ksz_lt_cl)\n",
    "plt.loglog(smooth_ells, ksz_lt_g_cl)\n",
    "plt.legend([ 'ksz_cl', 'ksz_cl Gaussian realization'])\n",
    "plt.title('$Cl_{l}^{kSZ}$')\n",
    "plt.xlabel('$l$')\n",
    "plt.ylabel('$Cl_{l}^{kSZ}$')\n",
    "plt.savefig(plot_path+'realization_comparision.png')"
   ]
  },
  {
   "cell_type": "code",
   "execution_count": 93,
   "metadata": {},
   "outputs": [],
   "source": [
    "# Write ksz_g_alm on disk\n",
    "hp.write_alm(map_path+f'ksz_lt_g_alm_lmax_{smooth_ellmax}.fits', ksz_lt_g_alm, overwrite=True)\n",
    "hp.write_alm(map_path+f'ksz_ri_g_alm_lmax_{smooth_ellmax}.fits', ksz_ri_g_alm, overwrite=True)"
   ]
  },
  {
   "cell_type": "code",
   "execution_count": null,
   "metadata": {},
   "outputs": [],
   "source": []
  }
 ],
 "metadata": {
  "kernelspec": {
   "display_name": "myenv-jupyter",
   "language": "python",
   "name": "myenv-jupyter"
  },
  "language_info": {
   "codemirror_mode": {
    "name": "ipython",
    "version": 3
   },
   "file_extension": ".py",
   "mimetype": "text/x-python",
   "name": "python",
   "nbconvert_exporter": "python",
   "pygments_lexer": "ipython3",
   "version": "3.7.4"
  },
  "name": "smooth.ipynb"
 },
 "nbformat": 4,
 "nbformat_minor": 4
}
