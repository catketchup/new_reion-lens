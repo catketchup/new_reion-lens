{
 "cells": [
  {
   "cell_type": "code",
   "execution_count": 327,
   "metadata": {
    "collapsed": false,
    "jupyter": {
     "outputs_hidden": false
    }
   },
   "outputs": [],
   "source": [
    "from orphics import io, maps, lensing, cosmology, stats\n",
    "from pixell import enmap, curvedsky\n",
    "import numpy as np\n",
    "import os, sys\n",
    "import healpy as hp\n",
    "import matplotlib.pylab as plt\n",
    "import symlens as s\n",
    "from symlens import utils\n",
    "import importlib\n",
    "from mpi4py import MPI\n",
    "import pandas as pd\n",
    "import tools\n",
    "from IPython.core.interactiveshell import InteractiveShell\n",
    "InteractiveShell.ast_node_interactivity = \"all\""
   ]
  },
  {
   "cell_type": "code",
   "execution_count": 328,
   "metadata": {
    "collapsed": false,
    "jupyter": {
     "outputs_hidden": false
    }
   },
   "outputs": [],
   "source": [
    "# use maps provided by websky\n",
    "map_path = 'maps/websky/'\n",
    "# path of output data\n",
    "data_path = 'data/'\n",
    "# path of output plots\n",
    "plot_path = 'temp/'"
   ]
  },
  {
   "cell_type": "code",
   "execution_count": 329,
   "metadata": {
    "collapsed": false,
    "jupyter": {
     "outputs_hidden": false
    }
   },
   "outputs": [],
   "source": [
    "ksz = pd.read_csv(data_path + 'ksz_cl.csv')\n",
    "\n",
    "bin_width = 20\n",
    "bin_ellmin, bin_ellmax = 10, 6100\n",
    "bin_ells = ksz['ell'].values[bin_ellmin:bin_ellmax+1]\n",
    "ksz_cl = ksz['ksz_cl'].values[bin_ellmin:bin_ellmax+1]\n",
    "\n",
    "smooth_ellmin, smooth_ellmax = 20, 6000\n",
    "smooth_width = 1"
   ]
  },
  {
   "cell_type": "code",
   "execution_count": 330,
   "metadata": {},
   "outputs": [
    {
     "data": {
      "text/plain": [
       "<module 'tools' from '/global/cscratch1/sd/hongbo/new_reion-lens/tools.py'>"
      ]
     },
     "execution_count": 330,
     "metadata": {},
     "output_type": "execute_result"
    }
   ],
   "source": [
    "importlib.reload(tools)\n",
    "S = tools.bin_smooth(bin_ells, ksz_cl, bin_width)\n",
    "smooth_ells, smooth_ksz_cl = S.smooth(smooth_ellmin, smooth_ellmax, smooth_width)"
   ]
  },
  {
   "cell_type": "code",
   "execution_count": 331,
   "metadata": {},
   "outputs": [
    {
     "data": {
      "text/plain": [
       "[<matplotlib.lines.Line2D at 0x2aab02fb8d90>]"
      ]
     },
     "execution_count": 331,
     "metadata": {},
     "output_type": "execute_result"
    },
    {
     "data": {
      "text/plain": [
       "Text(0.5, 1.0, 'before smooth, ellmin=10 ellmax=6100')"
      ]
     },
     "execution_count": 331,
     "metadata": {},
     "output_type": "execute_result"
    },
    {
     "data": {
      "text/plain": [
       "Text(0.5, 0, '$l$')"
      ]
     },
     "execution_count": 331,
     "metadata": {},
     "output_type": "execute_result"
    },
    {
     "data": {
      "text/plain": [
       "Text(0, 0.5, '$Cl_{l}^{kSZ}$')"
      ]
     },
     "execution_count": 331,
     "metadata": {},
     "output_type": "execute_result"
    },
    {
     "data": {
      "text/plain": [
       "[<matplotlib.lines.Line2D at 0x2aab03033dd0>]"
      ]
     },
     "execution_count": 331,
     "metadata": {},
     "output_type": "execute_result"
    },
    {
     "data": {
      "text/plain": [
       "Text(0.5, 1.0, 'after smooth, ellmin=20 ellmax=6000')"
      ]
     },
     "execution_count": 331,
     "metadata": {},
     "output_type": "execute_result"
    },
    {
     "data": {
      "text/plain": [
       "Text(0.5, 0, '$l$')"
      ]
     },
     "execution_count": 331,
     "metadata": {},
     "output_type": "execute_result"
    },
    {
     "data": {
      "text/plain": [
       "Text(0, 0.5, '$Cl_{l}^{kSZ}$')"
      ]
     },
     "execution_count": 331,
     "metadata": {},
     "output_type": "execute_result"
    },
    {
     "data": {
      "image/png": "[encoded data removed]",
      "text/plain": [
       "<Figure size 1080x288 with 2 Axes>"
      ]
     },
     "metadata": {
      "needs_background": "light"
     },
     "output_type": "display_data"
    }
   ],
   "source": [
    "fig, ax = plt.subplots(1,2,figsize=(15,4))\n",
    "\n",
    "ax[0].plot(bin_ells, ksz_cl)\n",
    "ax[0].set_title(f'before smooth, ellmin={bin_ellmin} ellmax={bin_ellmax}')\n",
    "ax[0].set_xscale('log')\n",
    "ax[0].set_yscale('log')\n",
    "ax[0].set_xlabel('$l$')                                                                        \n",
    "ax[0].set_ylabel('$Cl_{l}^{kSZ}$')      \n",
    "\n",
    "ax[1].plot(smooth_ells, smooth_ksz_cl)\n",
    "ax[1].set_title(f'after smooth, ellmin={smooth_ellmin} ellmax={smooth_ellmax}')\n",
    "ax[1].set_xscale('log')\n",
    "ax[1].set_yscale('log')\n",
    "ax[1].set_xlabel('$l$')                                                                        \n",
    "ax[1].set_ylabel('$Cl_{l}^{kSZ}$')      \n",
    "\n",
    "plt.savefig(plot_path+'smooth.png')"
   ]
  },
  {
   "cell_type": "code",
   "execution_count": 332,
   "metadata": {},
   "outputs": [],
   "source": [
    "ksz_cl = np.concatenate([np.zeros(smooth_ellmin), smooth_ksz_cl])\n",
    "smooth_ells = np.concatenate([np.arange(0, smooth_ellmin ,1), smooth_ells])\n",
    "num = 10\n",
    "ksz_g_alm = hp.synalm(ksz_cl) \n",
    "ksz_g_cl = hp.alm2cl(ksz_g_alm)"
   ]
  },
  {
   "cell_type": "code",
   "execution_count": 334,
   "metadata": {},
   "outputs": [
    {
     "data": {
      "text/plain": [
       "[<matplotlib.lines.Line2D at 0x2aab037f0a50>]"
      ]
     },
     "execution_count": 334,
     "metadata": {},
     "output_type": "execute_result"
    },
    {
     "data": {
      "text/plain": [
       "Text(0.5, 1.0, 'ksz_cl, ellmin=20 ellmax=6000')"
      ]
     },
     "execution_count": 334,
     "metadata": {},
     "output_type": "execute_result"
    },
    {
     "data": {
      "text/plain": [
       "Text(0.5, 0, '$l$')"
      ]
     },
     "execution_count": 334,
     "metadata": {},
     "output_type": "execute_result"
    },
    {
     "data": {
      "text/plain": [
       "Text(0, 0.5, '$Cl_{l}^{kSZ}$')"
      ]
     },
     "execution_count": 334,
     "metadata": {},
     "output_type": "execute_result"
    },
    {
     "data": {
      "text/plain": [
       "[<matplotlib.lines.Line2D at 0x2aab03814b90>]"
      ]
     },
     "execution_count": 334,
     "metadata": {},
     "output_type": "execute_result"
    },
    {
     "data": {
      "text/plain": [
       "Text(0.5, 1.0, 'ksz_cl_g from 1 realization, ellmin=20 ellmax=6000')"
      ]
     },
     "execution_count": 334,
     "metadata": {},
     "output_type": "execute_result"
    },
    {
     "data": {
      "text/plain": [
       "Text(0.5, 0, '$l$')"
      ]
     },
     "execution_count": 334,
     "metadata": {},
     "output_type": "execute_result"
    },
    {
     "data": {
      "text/plain": [
       "Text(0, 0.5, '$Cl_{l}^{kSZ}$')"
      ]
     },
     "execution_count": 334,
     "metadata": {},
     "output_type": "execute_result"
    },
    {
     "data": {
      "image/png": "[encoded data removed]",
      "text/plain": [
       "<Figure size 1080x288 with 2 Axes>"
      ]
     },
     "metadata": {
      "needs_background": "light"
     },
     "output_type": "display_data"
    }
   ],
   "source": [
    "fig1, ax1 = plt.subplots(1,2,figsize=(15,4))\n",
    "\n",
    "ax1[0].plot(smooth_ells, ksz_cl)\n",
    "ax1[0].set_title(f'ksz_cl, ellmin={smooth_ellmin} ellmax={smooth_ellmax}')\n",
    "ax1[0].set_xscale('log')\n",
    "ax1[0].set_yscale('log')\n",
    "ax1[0].set_xlabel('$l$')                                                                        \n",
    "ax1[0].set_ylabel('$Cl_{l}^{kSZ}$')      \n",
    "\n",
    "ax1[1].plot(smooth_ells, ksz_g_cl)\n",
    "ax1[1].set_title(f'ksz_cl_g from 1 realization, ellmin={smooth_ellmin} ellmax={smooth_ellmax}')\n",
    "ax1[1].set_xscale('log')\n",
    "ax1[1].set_yscale('log')\n",
    "ax1[1].set_xlabel('$l$')                                                                        \n",
    "ax1[1].set_ylabel('$Cl_{l}^{kSZ}$')      \n",
    "\n",
    "plt.savefig(plot_path+'realizations_ksz_cl.png')"
   ]
  },
  {
   "cell_type": "code",
   "execution_count": 337,
   "metadata": {},
   "outputs": [
    {
     "data": {
      "text/plain": [
       "[<matplotlib.lines.Line2D at 0x2aab03ec6d10>]"
      ]
     },
     "execution_count": 337,
     "metadata": {},
     "output_type": "execute_result"
    },
    {
     "data": {
      "text/plain": [
       "[<matplotlib.lines.Line2D at 0x2aab03d2ce90>]"
      ]
     },
     "execution_count": 337,
     "metadata": {},
     "output_type": "execute_result"
    },
    {
     "data": {
      "text/plain": [
       "<matplotlib.legend.Legend at 0x2aab03f2d410>"
      ]
     },
     "execution_count": 337,
     "metadata": {},
     "output_type": "execute_result"
    },
    {
     "data": {
      "text/plain": [
       "Text(0.5, 1.0, '$Cl_{l}^{kSZ}$')"
      ]
     },
     "execution_count": 337,
     "metadata": {},
     "output_type": "execute_result"
    },
    {
     "data": {
      "text/plain": [
       "Text(0.5, 0, '$l$')"
      ]
     },
     "execution_count": 337,
     "metadata": {},
     "output_type": "execute_result"
    },
    {
     "data": {
      "text/plain": [
       "Text(0, 0.5, '$Cl_{l}^{kSZ}$')"
      ]
     },
     "execution_count": 337,
     "metadata": {},
     "output_type": "execute_result"
    },
    {
     "data": {
      "image/png": "[encoded data removed]",
      "text/plain": [
       "<Figure size 432x288 with 1 Axes>"
      ]
     },
     "metadata": {
      "needs_background": "light"
     },
     "output_type": "display_data"
    }
   ],
   "source": [
    "# check one realization ksz_cl_g and  ksz_cl\n",
    "plt.loglog(smooth_ells, ksz_cl)\n",
    "plt.loglog(smooth_ells, ksz_g_cl)\n",
    "plt.legend([ 'ksz_cl', 'ksz_g_cl'])\n",
    "plt.title('$Cl_{l}^{kSZ}$')\n",
    "plt.xlabel('$l$')\n",
    "plt.ylabel('$Cl_{l}^{kSZ}$')\n",
    "plt.savefig(plot_path+'realization_comparision.png')"
   ]
  },
  {
   "cell_type": "code",
   "execution_count": 340,
   "metadata": {},
   "outputs": [],
   "source": [
    "# Write ksz_g_alm on disk\n",
    "hp.write_alm(map_path+f'ksz_g_alm_lmax_{smooth_ellmax}.fits', ksz_g_alm, overwrite=True)"
   ]
  },
  {
   "cell_type": "code",
   "execution_count": 296,
   "metadata": {},
   "outputs": [
    {
     "name": "stderr",
     "output_type": "stream",
     "text": [
      "/global/homes/h/hongbo/.local/cori/3.7-anaconda-2019.07/lib/python3.7/site-packages/healpy/fitsfunc.py:352: UserWarning: If you are not specifying the input dtype and using the default np.float64 dtype of read_map(), please consider that it will change in a future version to None as to keep the same dtype of the input file: please explicitly set the dtype if it is important to you.\n",
      "  \"If you are not specifying the input dtype and using the default \"\n",
      "/global/homes/h/hongbo/.local/cori/3.7-anaconda-2019.07/lib/python3.7/site-packages/healpy/fitsfunc.py:403: UserWarning: No INDXSCHM keyword in header file : assume IMPLICIT\n",
      "  warnings.warn(\"No INDXSCHM keyword in header file : \" \"assume {}\".format(schm))\n"
     ]
    },
    {
     "name": "stdout",
     "output_type": "stream",
     "text": [
      "NSIDE = 4096\n",
      "ORDERING = NESTED in fits file\n",
      "INDXSCHM = IMPLICIT\n",
      "Ordering converted to RING\n"
     ]
    }
   ],
   "source": [
    "# Write ksz_alm on disk\n",
    "ksz = hp.read_map(map_path+f'ksz_patchy.fits')\n",
    "ksz_alm = hp.map2alm(ksz, lmax=smooth_ellmax)\n",
    "hp.write_alm(map_path+f'ksz_alm_lmax_{smooth_ellmax}.fits', ksz_alm, overwrite=True)"
   ]
  },
  {
   "cell_type": "code",
   "execution_count": 297,
   "metadata": {},
   "outputs": [
    {
     "name": "stdout",
     "output_type": "stream",
     "text": [
      "NSIDE = 4096\n",
      "ORDERING = RING in fits file\n",
      "INDXSCHM = IMPLICIT\n"
     ]
    }
   ],
   "source": [
    "# Write input kap_alm on disk\n",
    "kap_map = hp.read_map(map_path+'kap.fits',hdu=1)\n",
    "kap_alm = hp.map2alm(kap_map, lmax=smooth_ellmax)\n",
    "hp.write_alm(map_path+f'kap_alm_lmax_{smooth_ellmax}.fits', kap_alm, overwrite=True)"
   ]
  }
 ],
 "metadata": {
  "kernelspec": {
   "display_name": "myenv-jupyter",
   "language": "python",
   "name": "myenv-jupyter"
  },
  "language_info": {
   "codemirror_mode": {
    "name": "ipython",
    "version": 3
   },
   "file_extension": ".py",
   "mimetype": "text/x-python",
   "name": "python",
   "nbconvert_exporter": "python",
   "pygments_lexer": "ipython3",
   "version": "3.7.4"
  },
  "name": "smooth.ipynb"
 },
 "nbformat": 4,
 "nbformat_minor": 4
}
