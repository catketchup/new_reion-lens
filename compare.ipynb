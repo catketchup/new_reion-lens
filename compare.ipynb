{
 "cells": [
  {
   "cell_type": "code",
   "execution_count": 13,
   "metadata": {},
   "outputs": [],
   "source": [
    "from orphics import io, maps, lensing, cosmology, stats\n",
    "from pixell import enmap, curvedsky\n",
    "import numpy as np\n",
    "import os, sys\n",
    "import healpy as hp\n",
    "import matplotlib.pylab as plt\n",
    "import symlens as s\n",
    "from symlens import utils\n",
    "import importlib\n",
    "from mpi4py import MPI\n",
    "import pandas as pd\n",
    "import tools\n",
    "from IPython.core.interactiveshell import InteractiveShell\n",
    "InteractiveShell.ast_node_interactivity = \"all\""
   ]
  },
  {
   "cell_type": "code",
   "execution_count": 26,
   "metadata": {},
   "outputs": [],
   "source": [
    "# use maps provided by websky\n",
    "map_path = 'maps/websky/'\n",
    "# path of output data\n",
    "data_path = 'data/test/'\n",
    "# path of output plots\n",
    "plot_path = 'temp/'"
   ]
  },
  {
   "cell_type": "code",
   "execution_count": 27,
   "metadata": {},
   "outputs": [],
   "source": [
    "# lmin, lmax for cmb maps\n",
    "ellmin, ellmax = 100, 4000\n",
    "# lmin, lmax for reconstructed kappa map\n",
    "Lmin, Lmax = 40, 4000\n",
    "# bin width for reconstructed kappa powerspectrum\n",
    "delta_L = 40\n",
    "\n",
    "# noise level for temperature and polarization maps, here we only investiget temperature maps\n",
    "nlev_t = 1\n",
    "nlev_p = np.sqrt(2)*nlev_t\n",
    "# beam size\n",
    "beam_arcmin = 10\n",
    "# pixel size in arcmin\n",
    "px_arcmin = 1.\n",
    "# size of cutout square\n",
    "width_deg = 30\n",
    "\n",
    "# Let's define a cut-sky cylindrical geometry with 1 arcminute pixel width\n",
    "# and a maximum declination extent of +- 15 deg (see below for reason)\n",
    "# band width in deg\n",
    "decmax = 30\n",
    "# shape and wcs  of the band\n",
    "band_shape, band_wcs = enmap.band_geometry(dec_cut=np.deg2rad(decmax),\n",
    "                                 res=np.deg2rad(px_arcmin / 60.))\n",
    "\n",
    "band_modlmap = enmap.modlmap(band_shape, band_wcs)"
   ]
  },
  {
   "cell_type": "code",
   "execution_count": 16,
   "metadata": {},
   "outputs": [],
   "source": [
    "# Read in cmb_alm\n",
    "cmb_alm = hp.read_alm(map_path+'lensed_alm.fits',hdu=1)\n",
    "# Get cmb band map\n",
    "cmb_band = curvedsky.alm2map(cmb_alm, enmap.empty(band_shape,band_wcs))"
   ]
  },
  {
   "cell_type": "code",
   "execution_count": 17,
   "metadata": {},
   "outputs": [],
   "source": [
    "# Read in ksz_alm and get ksz band map\n",
    "ksz_alm = hp.read_alm(map_path+'ksz_alm_lmax_6000.fits')\n",
    "ksz_band = curvedsky.alm2map(ksz_alm, enmap.empty(band_shape, band_wcs))\n",
    "\n",
    "# Read in ksz_g_alm  and get ksz_g_band map, 'g' is for gaussian\n",
    "ksz_g_alm = hp.read_alm(map_path+'ksz_g_alm_lmax_6000.fits')\n",
    "ksz_g_band = curvedsky.alm2map(ksz_g_alm, enmap.empty(band_shape, band_wcs))"
   ]
  },
  {
   "cell_type": "code",
   "execution_count": 18,
   "metadata": {},
   "outputs": [],
   "source": [
    "# Read in kap map and get kap_band"
   ]
  },
  {
   "cell_type": "code",
   "execution_count": 19,
   "metadata": {},
   "outputs": [],
   "source": [
    "ells = np.arange(0, ellmax, 1)\n",
    "# noise power spectrum\n",
    "Cl_noise_TT = (nlev_t*np.pi/180./60.)**2*np.ones(ells.shape)\n",
    "# deconvolved noise power spectrum\n",
    "Cl_noise_TT = Cl_noise_TT/utils.gauss_beam(ells, beam_arcmin)**2\n",
    "# deconvolved noise band map\n",
    "noise_band = curvedsky.rand_map(band_shape, band_wcs, Cl_noise_TT)"
   ]
  },
  {
   "cell_type": "code",
   "execution_count": 20,
   "metadata": {},
   "outputs": [],
   "source": [
    "# Add CMB map, ksz map and deconvolved noise map\n",
    "cmb_wksz_band = cmb_band + ksz_band + noise_band\n",
    "\n",
    "# Add CMB map, ksz gaussian map and deconvolved noise map\n",
    "cmb_wksz_g_band = cmb_band + ksz_g_band + noise_band"
   ]
  },
  {
   "cell_type": "code",
   "execution_count": 21,
   "metadata": {},
   "outputs": [],
   "source": [
    "# Read in input kappa map for cross correlation check\n",
    "kap_alm = hp.read_alm(map_path+'kap_alm_lmax_6000.fits')\n",
    "kap_band = curvedsky.alm2map(kap_alm, enmap.empty(band_shape, band_wcs))"
   ]
  },
  {
   "cell_type": "code",
   "execution_count": 22,
   "metadata": {},
   "outputs": [
    {
     "data": {
      "text/plain": [
       "<module 'tools' from '/global/cscratch1/sd/hongbo/new_reion-lens/tools.py'>"
      ]
     },
     "execution_count": 22,
     "metadata": {},
     "output_type": "execute_result"
    }
   ],
   "source": [
    "importlib.reload(tools)\n",
    "# Calculate the lensing reconstruction auto bias of the two cases above\n",
    "Bias = tools.lens_bias(ellmin, ellmax, nlev_t, beam_arcmin, px_arcmin, width_deg, cmb1=\\\n",
    "                      cmb_wksz_g_band, cmb2=cmb_wksz_band, inkap=kap_band)\n",
    "\n",
    "Ls, Auto = Bias.auto(Lmin, Lmax, delta_L)"
   ]
  },
  {
   "cell_type": "code",
   "execution_count": 23,
   "metadata": {},
   "outputs": [],
   "source": [
    "# Store autospectra and their bias in a dictionary\n",
    "Auto_dict = {\"L\":Ls, \"auto_wksz_g\":Auto.stats['reckap1 x reckap1']['mean'], \"auto_wksz_g_err\":\\\n",
    "             Auto.stats['reckap1 x reckap1']['err'],\"auto_wksz\":Auto.stats['reckap2 x reckap2']\\\n",
    "             ['mean'], \"auto_wksz_err\":Auto.stats['reckap2 x reckap2']['err'],\"auto_bias\":\\\n",
    "             Auto.stats['bias']['mean'], \"auto_bias_err\":Auto.stats['bias']['err']}\n",
    "\n",
    "# Convert the data in DataFrame and save it in .csv files\n",
    "Auto_df = pd.DataFrame(Auto_dict)\n",
    "Auto_df.to_csv(data_path+'auto_lmin=%s_lmax=%s_nlev_t=%s.csv' %(ellmin, ellmax, nlev_t),index=False)"
   ]
  },
  {
   "cell_type": "code",
   "execution_count": 24,
   "metadata": {},
   "outputs": [],
   "source": [
    "# Calculate the lensing reconstruction cross powerspectrum to check\n",
    "Ls, Cross = Bias.cross(Lmin, Lmax, delta_L)\n",
    "\n",
    "# Store crossspectra and their bias in a dictionary\n",
    "Cross_dict = {\"L\":Ls,\"input_kappa\":Cross.stats['inkap x inkap']['mean'], \"cross_wksz_g\":\\\n",
    "              Cross.stats['inkap x reckap1']['mean'], \"cross_wksz_g_err\":Cross.stats['inkap x reckap1']['err']\\\n",
    "              ,\"cross_wksz\":Cross.stats['inkap x reckap2']['mean'], \"cross_wksz_err\":Cross.stats\\\n",
    "              ['inkap x reckap2']['err'],\"cross_bias\":Cross.stats['bias']['mean'], \"cross_bias_err\":Cross.stats['bias']['err']}\n",
    "\n",
    "# Convert the data in DataFrame and save it in .csv files\n",
    "Cross_df = pd.DataFrame(Cross_dict)\n",
    "Cross_df.to_csv(data_path+'cross_lmin=%s_lmax=%s_nlev_t=%s.csv' %(ellmin, ellmax, nlev_t),index=False)"
   ]
  },
  {
   "cell_type": "code",
   "execution_count": null,
   "metadata": {},
   "outputs": [],
   "source": []
  }
 ],
 "metadata": {
  "kernelspec": {
   "display_name": "myenv-jupyter",
   "language": "python",
   "name": "myenv-jupyter"
  },
  "language_info": {
   "codemirror_mode": {
    "name": "ipython",
    "version": 3
   },
   "file_extension": ".py",
   "mimetype": "text/x-python",
   "name": "python",
   "nbconvert_exporter": "python",
   "pygments_lexer": "ipython3",
   "version": "3.7.4"
  }
 },
 "nbformat": 4,
 "nbformat_minor": 4
}
